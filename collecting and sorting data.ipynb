{
 "cells": [
  {
   "cell_type": "markdown",
   "metadata": {},
   "source": [
    "# Collecting Data"
   ]
  },
  {
   "cell_type": "code",
   "execution_count": 8,
   "metadata": {},
   "outputs": [],
   "source": [
    "import pandas as pd\n",
    "from basketball_reference_web_scraper import client\n",
    "from basketball_reference_web_scraper.data import OutputType\n",
    "\n",
    "# if a variable does not seem to be defined it is in here \n",
    "# this is because it is also needed in the analysis and visualization\n",
    "%run 'variables.ipynb'  "
   ]
  },
  {
   "cell_type": "code",
   "execution_count": 2,
   "metadata": {
    "scrolled": true
   },
   "outputs": [],
   "source": [
    "for year in range(START_YEAR, END_YEAR):\n",
    "    client.season_schedule(\n",
    "        season_end_year=year, \n",
    "        output_type=OutputType.CSV, \n",
    "        output_file_path = './Games/allgames%s.csv' % str(year)\n",
    "    )"
   ]
  },
  {
   "cell_type": "code",
   "execution_count": 3,
   "metadata": {},
   "outputs": [],
   "source": [
    "# compile all of the seasons into one list, and only include regular season games \n",
    "\n",
    "shortened_years = {\n",
    "    2012: 990, \n",
    "    2013: 1229, \n",
    "    2020: 971\n",
    "}\n",
    "\n",
    "# create a list containing a dataframe for each season being studied, and cut off the post season \n",
    "allgames = [pd.read_csv('./Games/allgames%s.csv' % (year)).iloc[range(0, 1230), :] if year not in shortened_years \n",
    "            else pd.read_csv('./Games/allgames%s.csv' % (year)).iloc[range(0, shortened_years[year]), :]  \n",
    "            for year in range(START_YEAR, END_YEAR)]\n",
    "\n",
    "# add column for home win\n",
    "for game in allgames: \n",
    "    game['home_team_win?'] = game['home_team_score'] > game['away_team_score']\n",
    "\n",
    "# re-save the dataframes, but with only the reg season and the home_team_win? column \n",
    "for year in range(START_YEAR, END_YEAR): \n",
    "    game = allgames[year - START_YEAR]\n",
    "    path = './Games/allgames%s.csv' % str(year)\n",
    "    game.to_csv(path, index = False)"
   ]
  },
  {
   "cell_type": "markdown",
   "metadata": {},
   "source": [
    "# Finding Travel Distance Between Each Road Game"
   ]
  },
  {
   "cell_type": "markdown",
   "metadata": {},
   "source": [
    "# Some Definitions: \n",
    "###### road trip: Any continuous stretch of away games directly following a home game (the length is the # of games played)\n",
    "###### cumulative distance: Refers to the total distance traveled from game to game during a road trip \n",
    "###### n game road trip: A road trip of length n, where length is measured in the number of games played\n",
    "\n",
    "\n",
    "#### Some Notes: \n",
    "###### An n game road trip may be a fraction of a larger road trip. For example, a 5 game road trip consists of a 4 game road trip, a 3 game road trip, etc...\n",
    "###### Therefore, when I refer to a n game road trip, it does not imply that the n + 1 game is a home game. \n",
    "###### However, all road trips start from the first away game following a home game. For example, the last 3 games of a 5 game road trip is not a 3 game road trip. However, the first 3 games of a 5 game road trip is a 3 game road trip. \n",
    "###### All travel distances are approximated as the distance between the home cities of each team. For example, If the 76ers played an away  game against the Celtics, the distance traveled would be estimated as the distance between Philadelphia and Boston, according to this API: https://www.distance24.org/api.xhtml\n",
    "###### I did not consider games played between the Clippers and Lakers in my calculations, as they share a stadium, which pretty much defeats the purpose of home v. away. \n"
   ]
  },
  {
   "cell_type": "code",
   "execution_count": 4,
   "metadata": {},
   "outputs": [],
   "source": [
    "# Lets find out if winning an away game is correlated with distance traveled \n",
    "import json\n",
    "import requests\n",
    "\n",
    "class TeamTravelingVsWinning: \n",
    "    def __init__(self, team, year):\n",
    "        # each object of this class will be associated with a unique NBA team and year \n",
    "        self.year = year \n",
    "        self.team = team  \n",
    "        \n",
    "        self.home_city = team_cities[team]  # city of the team \n",
    "        self.curr_city = team_cities[team]  # current location of the team (initialized to the home city)\n",
    "        self.games_played = 0  # keeps track of the current game # \n",
    "        \n",
    "        num_games = 82 if year != 2012 else 66 # only 66 games were played in the 2011-12 season\n",
    "        \n",
    "        if self.year == 2013:\n",
    "            if self.team == 'BOSTON CELTICS' or self.team == 'INDIANA PACERS': # 1 game cancelled bc of boston marathon bombing  \n",
    "                num_games = 81 \n",
    "        \n",
    "        #  As we iterate through the season's games, we will maintain this table for each team \n",
    "        self.table = {\n",
    "            'cumulative_distance' : [0 for i in range(num_games)], \n",
    "            'n_game_road_trip' : [0 for i in range(num_games)], \n",
    "            'win?' : [None for i in range(num_games)]\n",
    "        }\n",
    "        \n",
    "        # The teams dictionary will store a team for every (year, team) combination\n",
    "        # Some combinations will be invalid, for instance the Charlotte Bobcats were not a team after 2013-14\n",
    "        self.valid = False \n",
    "    \n",
    "    def add_game(self, home_team, h_pnts, v_pnts):\n",
    "        if  self.home_city != team_cities[home_team]: \n",
    "            cities = 'stops=%s|%s' % (self.curr_city, team_cities[home_team])\n",
    "            ep = 'https://www.distance24.org/route.json?%s' % cities\n",
    "            dist = requests.get(ep).json()['distance']\n",
    "            prev_road_count = self.table['n_game_road_trip'][self.games_played - 1]\n",
    "            prev_cumulative_dist = self.table['cumulative_distance'][self.games_played - 1]\n",
    "            self.table['n_game_road_trip'][self.games_played] = prev_road_count + 1 \n",
    "            self.table['cumulative_distance'][self.games_played] = prev_cumulative_dist + dist \n",
    "        else: \n",
    "            self.table['n_game_road_trip'][self.games_played] = 0 \n",
    "            self.table['cumulative_distance'][self.games_played] = 0 \n",
    "        if self.team == home_team: \n",
    "            self.table['win?'][self.games_played] = 1 if h_pnts > v_pnts else 0 \n",
    "        else: \n",
    "            self.table['win?'][self.games_played] = 0 if h_pnts > v_pnts else 1 \n",
    "        self.valid = True # if this method is accessed, it means that this team is \"valid\" \n",
    "        self.games_played += 1  \n",
    "        self.curr_city = team_cities[home_team] \n",
    "\n",
    "teams = {} \n",
    "for year in range(START_YEAR, END_YEAR): \n",
    "    for team in team_cities: \n",
    "        teams[(team, year)] = TeamTravelingVsWinning(team, year)\n"
   ]
  },
  {
   "cell_type": "code",
   "execution_count": 5,
   "metadata": {},
   "outputs": [
    {
     "name": "stdout",
     "output_type": "stream",
     "text": [
      "0.0% done\n",
      "100% done\n"
     ]
    }
   ],
   "source": [
    "for year in range(START_YEAR, END_YEAR): \n",
    "    print(str((year - START_YEAR) / (END_YEAR - START_YEAR) * 100) + '% done')\n",
    "    for row in allgames[year - START_YEAR].iterrows():\n",
    "        visitor = row[1].loc['away_team']\n",
    "        home_team = row[1].loc['home_team'] \n",
    "        h_pnts = row[1].loc['home_team_score'] \n",
    "        v_pnts = row[1].loc['away_team_score']\n",
    "        teams[(visitor, year)].add_game(home_team, h_pnts, v_pnts) \n",
    "        teams[(home_team, year)].add_game(home_team, h_pnts, v_pnts) \n",
    "\n",
    "print('100% done')\n",
    "        \n",
    "        "
   ]
  },
  {
   "cell_type": "code",
   "execution_count": 6,
   "metadata": {
    "scrolled": false
   },
   "outputs": [],
   "source": [
    "# Lets save each team's table as a csv, because that took a while to calculate \n",
    "dfs = {(team, year):pd.DataFrame.from_dict(data.table) for (team, year), data in teams.items() \n",
    "       if data.valid}\n",
    "for (team, year), df in dfs.items(): \n",
    "    name = '%s%s.csv' % (team, year)\n",
    "    path = 'TeamTravelDistVsWinning/%s' % name\n",
    "    df.to_csv(path, index = False)\n"
   ]
  },
  {
   "cell_type": "code",
   "execution_count": 9,
   "metadata": {},
   "outputs": [
    {
     "data": {
      "text/plain": [
       "count    14214.000000\n",
       "mean         1.948572\n",
       "std          1.261698\n",
       "min          1.000000\n",
       "25%          1.000000\n",
       "50%          2.000000\n",
       "75%          2.000000\n",
       "max         10.000000\n",
       "Name: n_game_road_trip, dtype: float64"
      ]
     },
     "execution_count": 9,
     "metadata": {},
     "output_type": "execute_result"
    }
   ],
   "source": [
    "# Now, let's compile each teams data into one big DataFrame\n",
    "\n",
    "team_travel_data = []\n",
    "for year in range(START_YEAR, END_YEAR):\n",
    "    for team, city in team_cities.items(): \n",
    "        file = '%s%s.csv' % (team, year) \n",
    "        try:\n",
    "            team_travel_data.append(pd.read_csv('TeamTravelDistVsWinning/%s' % file))\n",
    "        except FileNotFoundError: # not every team, city combination is a valid team \n",
    "            continue \n",
    "\n",
    "complete_data = pd.concat(team_travel_data)\n",
    "\n",
    "# delete home games \n",
    "complete_data = complete_data[complete_data['n_game_road_trip'] > 0]\n",
    "\n",
    "# get table sorted by distance\n",
    "complete_data.sort_values(by = ['cumulative_distance', 'n_game_road_trip'], inplace = True)\n",
    "\n",
    "# reset indices \n",
    "complete_data.reset_index(drop=True, inplace=True)\n",
    "\n",
    "# complete_data['cumulative_distance'].describe()\n",
    "complete_data['n_game_road_trip'].describe()\n"
   ]
  },
  {
   "cell_type": "code",
   "execution_count": 10,
   "metadata": {},
   "outputs": [],
   "source": [
    "# Save complete_data as a csv \n",
    "\n",
    "complete_data.to_csv('CompleteData/completedata.csv')"
   ]
  }
 ],
 "metadata": {
  "kernelspec": {
   "display_name": "Python 3",
   "language": "python",
   "name": "python3"
  },
  "language_info": {
   "codemirror_mode": {
    "name": "ipython",
    "version": 3
   },
   "file_extension": ".py",
   "mimetype": "text/x-python",
   "name": "python",
   "nbconvert_exporter": "python",
   "pygments_lexer": "ipython3",
   "version": "3.9.1"
  }
 },
 "nbformat": 4,
 "nbformat_minor": 4
}
