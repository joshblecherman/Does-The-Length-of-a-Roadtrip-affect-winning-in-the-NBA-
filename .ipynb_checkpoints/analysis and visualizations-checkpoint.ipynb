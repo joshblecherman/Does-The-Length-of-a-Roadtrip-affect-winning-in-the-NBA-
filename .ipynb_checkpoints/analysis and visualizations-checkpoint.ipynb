{
 "cells": [
  {
   "cell_type": "code",
   "execution_count": 7,
   "metadata": {},
   "outputs": [],
   "source": [
    "import pandas as pd\n",
    "%run 'variables.ipynb'"
   ]
  },
  {
   "cell_type": "markdown",
   "metadata": {},
   "source": [
    "# Analysis"
   ]
  },
  {
   "cell_type": "markdown",
   "metadata": {},
   "source": [
    "The initial goal for this section was to see how both the length of a road trip and cumulative distance correlate with winning. However,  working with cumulative distance turned out to be troublesome. Road trip length is measured in number of games, which is discrete; distance traveled is measured in kilometers, which is continuous. When I tested the statistical significance of my findings, I first used a chi-squared test and then decided to use a difference of proportions test. Both of these tests require that the data is broken into discrete chunks, which naturally lends itself to a discrete dependent variable. "
   ]
  },
  {
   "cell_type": "code",
   "execution_count": 8,
   "metadata": {},
   "outputs": [],
   "source": [
    "allgames = [pd.read_csv('./Games/allgames%s.csv' % (year)) for year in range(START_YEAR, END_YEAR)]"
   ]
  },
  {
   "cell_type": "code",
   "execution_count": 9,
   "metadata": {},
   "outputs": [
    {
     "name": "stdout",
     "output_type": "stream",
     "text": [
      "Home Team Win% = 58.672294704528014%\n"
     ]
    }
   ],
   "source": [
    "# what is the home team win % over these 10 regular seasons? \n",
    "num_home_wins = sum([game['home_team_win?'].sum() for game in allgames]) \n",
    "num_games = sum([game.shape[0] for game in allgames])\n",
    "\n",
    "home_win_percentage = num_home_wins / num_games \n",
    "print('Home Team Win% =', str(home_win_percentage * 100) + '%')"
   ]
  },
  {
   "cell_type": "code",
   "execution_count": 10,
   "metadata": {},
   "outputs": [
    {
     "name": "stdout",
     "output_type": "stream",
     "text": [
      "sample size for different values of n, where n is the length of a road trip\n",
      "n = 1: 6448\n",
      "n = 2: 3287\n",
      "n = 3: 1713\n",
      "n = 4: 886\n",
      "n = 5: 396\n",
      "n = 6: 164\n",
      "n = 7: 59\n",
      "n = 8: 26\n",
      "n = 9: 8\n",
      "n = 10: 1\n"
     ]
    }
   ],
   "source": [
    "# Explore sample size for each road trip length for different values of n \n",
    "\n",
    "complete_data = pd.read_csv('CompleteData/completedata.csv')\n",
    "\n",
    "print('sample size for different values of n, where n is the length of a road trip')\n",
    "for i in range(1, 11):\n",
    "    print('n = %s:' % str(i), complete_data[complete_data['n_game_road_trip'] == i].shape[0])"
   ]
  },
  {
   "cell_type": "code",
   "execution_count": 11,
   "metadata": {},
   "outputs": [
    {
     "data": {
      "text/html": [
       "<div>\n",
       "<style scoped>\n",
       "    .dataframe tbody tr th:only-of-type {\n",
       "        vertical-align: middle;\n",
       "    }\n",
       "\n",
       "    .dataframe tbody tr th {\n",
       "        vertical-align: top;\n",
       "    }\n",
       "\n",
       "    .dataframe thead th {\n",
       "        text-align: right;\n",
       "    }\n",
       "</style>\n",
       "<table border=\"1\" class=\"dataframe\">\n",
       "  <thead>\n",
       "    <tr style=\"text-align: right;\">\n",
       "      <th></th>\n",
       "      <th>sample size</th>\n",
       "      <th>nth game of road trip</th>\n",
       "      <th>mean travel distance</th>\n",
       "      <th>games won</th>\n",
       "      <th>expected games won</th>\n",
       "      <th>win %</th>\n",
       "    </tr>\n",
       "  </thead>\n",
       "  <tbody>\n",
       "    <tr>\n",
       "      <th>0</th>\n",
       "      <td>6448</td>\n",
       "      <td>1</td>\n",
       "      <td>1300.324907</td>\n",
       "      <td>2684</td>\n",
       "      <td>2664</td>\n",
       "      <td>0.416253</td>\n",
       "    </tr>\n",
       "    <tr>\n",
       "      <th>1</th>\n",
       "      <td>3287</td>\n",
       "      <td>2</td>\n",
       "      <td>2666.988744</td>\n",
       "      <td>1341</td>\n",
       "      <td>1358</td>\n",
       "      <td>0.407971</td>\n",
       "    </tr>\n",
       "    <tr>\n",
       "      <th>2</th>\n",
       "      <td>1713</td>\n",
       "      <td>3</td>\n",
       "      <td>3946.100992</td>\n",
       "      <td>693</td>\n",
       "      <td>707</td>\n",
       "      <td>0.404553</td>\n",
       "    </tr>\n",
       "    <tr>\n",
       "      <th>3</th>\n",
       "      <td>886</td>\n",
       "      <td>4</td>\n",
       "      <td>5200.189616</td>\n",
       "      <td>358</td>\n",
       "      <td>366</td>\n",
       "      <td>0.404063</td>\n",
       "    </tr>\n",
       "    <tr>\n",
       "      <th>4</th>\n",
       "      <td>396</td>\n",
       "      <td>5</td>\n",
       "      <td>6242.363636</td>\n",
       "      <td>175</td>\n",
       "      <td>163</td>\n",
       "      <td>0.441919</td>\n",
       "    </tr>\n",
       "    <tr>\n",
       "      <th>5</th>\n",
       "      <td>164</td>\n",
       "      <td>6</td>\n",
       "      <td>7345.371951</td>\n",
       "      <td>74</td>\n",
       "      <td>67</td>\n",
       "      <td>0.451220</td>\n",
       "    </tr>\n",
       "    <tr>\n",
       "      <th>6</th>\n",
       "      <td>59</td>\n",
       "      <td>7</td>\n",
       "      <td>8432.898305</td>\n",
       "      <td>27</td>\n",
       "      <td>24</td>\n",
       "      <td>0.457627</td>\n",
       "    </tr>\n",
       "    <tr>\n",
       "      <th>7</th>\n",
       "      <td>26</td>\n",
       "      <td>8</td>\n",
       "      <td>9569.384615</td>\n",
       "      <td>11</td>\n",
       "      <td>10</td>\n",
       "      <td>0.423077</td>\n",
       "    </tr>\n",
       "    <tr>\n",
       "      <th>8</th>\n",
       "      <td>8</td>\n",
       "      <td>9</td>\n",
       "      <td>10707.125000</td>\n",
       "      <td>3</td>\n",
       "      <td>3</td>\n",
       "      <td>0.375000</td>\n",
       "    </tr>\n",
       "    <tr>\n",
       "      <th>9</th>\n",
       "      <td>1</td>\n",
       "      <td>10</td>\n",
       "      <td>10115.000000</td>\n",
       "      <td>0</td>\n",
       "      <td>0</td>\n",
       "      <td>0.000000</td>\n",
       "    </tr>\n",
       "  </tbody>\n",
       "</table>\n",
       "</div>"
      ],
      "text/plain": [
       "   sample size  nth game of road trip  mean travel distance  games won  \\\n",
       "0         6448                      1           1300.324907       2684   \n",
       "1         3287                      2           2666.988744       1341   \n",
       "2         1713                      3           3946.100992        693   \n",
       "3          886                      4           5200.189616        358   \n",
       "4          396                      5           6242.363636        175   \n",
       "5          164                      6           7345.371951         74   \n",
       "6           59                      7           8432.898305         27   \n",
       "7           26                      8           9569.384615         11   \n",
       "8            8                      9          10707.125000          3   \n",
       "9            1                     10          10115.000000          0   \n",
       "\n",
       "   expected games won     win %  \n",
       "0                2664  0.416253  \n",
       "1                1358  0.407971  \n",
       "2                 707  0.404553  \n",
       "3                 366  0.404063  \n",
       "4                 163  0.441919  \n",
       "5                  67  0.451220  \n",
       "6                  24  0.457627  \n",
       "7                  10  0.423077  \n",
       "8                   3  0.375000  \n",
       "9                   0  0.000000  "
      ]
     },
     "execution_count": 11,
     "metadata": {},
     "output_type": "execute_result"
    }
   ],
   "source": [
    "# create a dictionary to analyze the data\n",
    "\n",
    "AWAY_WIN_PERCENTAGE = 1 - home_win_percentage \n",
    "\n",
    "data_dict = {\n",
    "    'sample size': [],\n",
    "    'nth game of road trip': [],\n",
    "    'mean travel distance' : [],\n",
    "    'games won' : [], \n",
    "    'expected games won' : [], # if winning is independent of the length of road trip, how many games should be won? \n",
    "    'win %' : []\n",
    "}\n",
    "for i in range(1, 11): \n",
    "    data = complete_data[complete_data['n_game_road_trip'] == i]\n",
    "    games_won = int(data['win?'].sum()) \n",
    "    size = data.shape[0] \n",
    "    winpercentage = games_won / size\n",
    "    mean_traveldist = data['cumulative_distance'].mean()\n",
    "    data_dict['sample size'].append(size)\n",
    "    data_dict['win %'].append(winpercentage)\n",
    "    data_dict['nth game of road trip'].append(i) \n",
    "    data_dict['mean travel distance'].append(mean_traveldist)\n",
    "    data_dict['games won'].append(games_won) \n",
    "    data_dict['expected games won'].append(int(size * AWAY_WIN_PERCENTAGE))\n",
    "\n",
    "wins_vs_roadtrip = pd.DataFrame.from_dict(data_dict) \n",
    "    \n",
    "wins_vs_roadtrip "
   ]
  },
  {
   "cell_type": "code",
   "execution_count": 12,
   "metadata": {},
   "outputs": [
    {
     "name": "stdout",
     "output_type": "stream",
     "text": [
      "[2684, 1341, 693, 358, 175, 74, 41] [2664, 1358, 707, 366, 163, 67, 37]\n"
     ]
    },
    {
     "data": {
      "text/plain": [
       "Power_divergenceResult(statistic=2.862265519972818, pvalue=0.8259248607683116)"
      ]
     },
     "execution_count": 12,
     "metadata": {},
     "output_type": "execute_result"
    }
   ],
   "source": [
    "# is this data significant?\n",
    "\n",
    "from scipy.stats import chisquare\n",
    "\n",
    "observed = data_dict['games won'][0:6] \n",
    "observed.append(sum(data_dict['games won'][6:])) # combine the smaller sample sizes\n",
    "expected = data_dict['expected games won'][0:6]\n",
    "expected.append(sum(data_dict['expected games won'][6:])) # combine the smaller sample sizes\n",
    "\n",
    "print(observed, expected)\n",
    "results = chisquare(observed, expected)\n",
    "\n",
    "results\n",
    "\n",
    "# According to this test, probably not \n",
    "# However, this was probably not the best test to use "
   ]
  },
  {
   "cell_type": "markdown",
   "metadata": {},
   "source": [
    "From the eye test, there seems to be a potentially significant jump in win % when a team is on their 5th or greater game of a road trip. Let's see if that is true using a difference of proportions test, with the two proportions being the wins during the nth game of the road trip for 1 <= n <= 4, and the wins for 5 <= n <= 10. \n",
    "\n",
    "Let p1 be the winning percentage for 1 <= n <= 4 and p2 be the winnning percentage for 5 <= n <= 10. \n",
    "\n",
    "Null hypothesis: p1 = p2 \n",
    "\n",
    "Alternative hypothesis: p1 != p2\n",
    "\n",
    "I will use a two tailed test with an alpha/2 value of 5% - this simply means that I want to be at least 90% sure that p1 != p2 in order to reject the null hypothesis. "
   ]
  },
  {
   "cell_type": "code",
   "execution_count": null,
   "metadata": {},
   "outputs": [],
   "source": [
    "import numpy as np \n",
    "\n",
    "def diff_of_proportions_test(y1, n1, y2, n2): \n",
    "    p1, p2 = y1 / n1, y2 / n2 \n",
    "    p0 = (y1 + y2) / (n1 + n2)\n",
    "    z_obs = (p1 - p2) / np.sqrt((p0 * (1 - p0) * (1/n1 + 1/n2))) \n",
    "    return z_obs\n",
    "    "
   ]
  },
  {
   "cell_type": "code",
   "execution_count": 21,
   "metadata": {},
   "outputs": [
    {
     "name": "stdout",
     "output_type": "stream",
     "text": [
      "z_value = 1.6134932362278969\n"
     ]
    }
   ],
   "source": [
    "p1_wins = wins_vs_roadtrip[wins_vs_roadtrip['nth game of road trip'] <= 4]['games won'].sum()\n",
    "p1_games = wins_vs_roadtrip[wins_vs_roadtrip['nth game of road trip'] <= 4]['sample size'].sum()\n",
    "\n",
    "p2_wins = wins_vs_roadtrip[wins_vs_roadtrip['nth game of road trip'] > 4]['games won'].sum()\n",
    "p2_games = wins_vs_roadtrip[wins_vs_roadtrip['nth game of road trip'] > 4]['sample size'].sum()\n",
    "\n",
    "z_value = diff_of_proportions_test(p2_wins, p2_games, p1_wins, p1_games)\n",
    "\n",
    "print('z_value =', z_value)"
   ]
  },
  {
   "cell_type": "markdown",
   "metadata": {},
   "source": [
    "This z-value means that we cannot reject the null hypothesis with my initially stated 90% level of confidence. In other words, we cannot be 90% sure that "
   ]
  },
  {
   "cell_type": "markdown",
   "metadata": {},
   "source": [
    "# Longest Road Trip? Longest Distance Traveled?"
   ]
  },
  {
   "cell_type": "markdown",
   "metadata": {},
   "source": [
    "We know that the longest road trip was 10 games, and the longest distance traveled was 13039 km. \n",
    "\n",
    "But which teams endured these massive road trips? If I was smarter, I would have added a column for \"team\" and \"year\" before I mixed up the data, but I didn't, so now we have to write some more code :)"
   ]
  },
  {
   "cell_type": "code",
   "execution_count": 17,
   "metadata": {},
   "outputs": [
    {
     "name": "stdout",
     "output_type": "stream",
     "text": [
      "Longest Distance Traveled: ('PHILADELPHIA 76ERS', 2011)\n",
      "Longest Road Trip: ('LOS ANGELES CLIPPERS', 2011)\n"
     ]
    }
   ],
   "source": [
    "team_longest_dist, team_longest_road_trip = None, None \n",
    "\n",
    "for year in range(START_YEAR, END_YEAR):\n",
    "    for team, city in team_cities.items(): \n",
    "        \n",
    "        file = '%s%s.csv' % (team, year) \n",
    "        try:\n",
    "            team_season = pd.read_csv('TeamTravelDistVsWinning/%s' % file)\n",
    "        except FileNotFoundError: # not every team, city combination is a valid team \n",
    "            continue \n",
    "        \n",
    "        if team_season[team_season['n_game_road_trip'] == 10].shape[0] != 0:\n",
    "            team_longest_road_trip = (team, year) \n",
    "        if team_season[team_season['cumulative_distance'] == 13039].shape[0] != 0: \n",
    "            team_longest_dist = (team, year)\n",
    "            \n",
    "\n",
    "print('Longest Distance Traveled: %s' % str(team_longest_dist))            \n",
    "print('Longest Road Trip: %s' % str(team_longest_road_trip))"
   ]
  },
  {
   "cell_type": "markdown",
   "metadata": {},
   "source": [
    "Technically, the Clippers 10 game road trip was actually 11 games! The 11th game was against the Lakers, but I didn't count games between the Clippers and Lakers in my calculations (as I said before, they share a stadium, which defeats the purpose of analyzing the effects of away games). "
   ]
  },
  {
   "cell_type": "markdown",
   "metadata": {},
   "source": [
    "# Visualizations"
   ]
  },
  {
   "cell_type": "code",
   "execution_count": 18,
   "metadata": {},
   "outputs": [
    {
     "data": {
      "text/plain": [
       "<seaborn.axisgrid.FacetGrid at 0x7ff47e67b610>"
      ]
     },
     "execution_count": 18,
     "metadata": {},
     "output_type": "execute_result"
    },
    {
     "data": {
      "image/png": "[encoded data removed]",
      "text/plain": [
       "<Figure size 360x360 with 1 Axes>"
      ]
     },
     "metadata": {
      "needs_background": "light"
     },
     "output_type": "display_data"
    }
   ],
   "source": [
    "# Visualization of distance traveled vs length of trip \n",
    "\n",
    "import numpy as np\n",
    "import seaborn as sns\n",
    "import matplotlib.pyplot as plt\n",
    "\n",
    "sns.lmplot(x = 'n_game_road_trip', y = 'cumulative_distance', data = complete_data)\n"
   ]
  },
  {
   "cell_type": "code",
   "execution_count": 19,
   "metadata": {},
   "outputs": [
    {
     "data": {
      "text/plain": [
       "<seaborn.axisgrid.FacetGrid at 0x7ff4809aafd0>"
      ]
     },
     "execution_count": 19,
     "metadata": {},
     "output_type": "execute_result"
    },
    {
     "data": {
      "image/png": "[encoded data removed]",
      "text/plain": [
       "<Figure size 360x360 with 1 Axes>"
      ]
     },
     "metadata": {
      "needs_background": "light"
     },
     "output_type": "display_data"
    }
   ],
   "source": [
    "sns.lmplot(x = 'cumulative_distance', y = 'win?', data = complete_data)"
   ]
  }
 ],
 "metadata": {
  "kernelspec": {
   "display_name": "Python 3",
   "language": "python",
   "name": "python3"
  },
  "language_info": {
   "codemirror_mode": {
    "name": "ipython",
    "version": 3
   },
   "file_extension": ".py",
   "mimetype": "text/x-python",
   "name": "python",
   "nbconvert_exporter": "python",
   "pygments_lexer": "ipython3",
   "version": "3.9.1"
  }
 },
 "nbformat": 4,
 "nbformat_minor": 4
}
