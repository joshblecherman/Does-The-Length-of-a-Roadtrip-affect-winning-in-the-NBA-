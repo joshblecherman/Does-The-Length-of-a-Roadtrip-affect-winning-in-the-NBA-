{
 "cells": [
  {
   "cell_type": "markdown",
   "metadata": {},
   "source": [
    "# Collecting Data"
   ]
  },
  {
   "cell_type": "code",
   "execution_count": 2,
   "metadata": {},
   "outputs": [],
   "source": [
    "import pandas as pd\n",
    "from basketball_reference_web_scraper import client\n",
    "from basketball_reference_web_scraper.data import OutputType"
   ]
  },
  {
   "cell_type": "code",
   "execution_count": 3,
   "metadata": {
    "scrolled": true
   },
   "outputs": [],
   "source": [
    "START_YEAR, END_YEAR = 2010, 2020\n",
    "\n",
    "for year in range(START_YEAR, END_YEAR):\n",
    "    client.season_schedule(\n",
    "        season_end_year=year, \n",
    "        output_type=OutputType.CSV, \n",
    "        output_file_path = \"./games/allgames%s.csv\" % str(year)\n",
    "    )"
   ]
  },
  {
   "cell_type": "code",
   "execution_count": 4,
   "metadata": {},
   "outputs": [],
   "source": [
    "shortened_years = {\n",
    "    2012: 990, \n",
    "    2013: 1229 \n",
    "}\n",
    "\n",
    "allgames = [pd.read_csv(\"./games/allgames%s.csv\" % (year)).iloc[range(0, 1230), :] if year not in shortened_years \n",
    "            else pd.read_csv(\"./games/allgames%s.csv\" % (year)).iloc[range(0, shortened_years[year]), :]  \n",
    "            for year in range(START_YEAR, END_YEAR)]"
   ]
  },
  {
   "cell_type": "code",
   "execution_count": 5,
   "metadata": {},
   "outputs": [
    {
     "name": "stdout",
     "output_type": "stream",
     "text": [
      "0.5896011277883738\n"
     ]
    }
   ],
   "source": [
    "# add column for home win\n",
    "for game in allgames: \n",
    "    game[\"home_team_win?\"] = game[\"home_team_score\"] > game[\"away_team_score\"]\n",
    "\n",
    "    \n",
    "# what is the home team win % over these 3 regular seasons? \n",
    "num_home_wins = sum([game[\"home_team_win?\"].sum() for game in allgames]) \n",
    "num_games = sum([game.shape[0] for game in allgames])\n",
    "\n",
    "home_win_percentage = num_home_wins / num_games \n",
    "print(home_win_percentage)"
   ]
  },
  {
   "cell_type": "markdown",
   "metadata": {},
   "source": [
    "# Finding Travel Distance Between Each Road Game"
   ]
  },
  {
   "cell_type": "markdown",
   "metadata": {},
   "source": [
    "# Some Definitions: \n",
    "###### road trip: Any continuous stretch of away games directly following a home game (the length is the # of games played)\n",
    "###### cumulative distance: Refers to the total distance traveled from game to game during a road trip \n",
    "###### n game road trip: A road trip of length n\n",
    "\n",
    "\n",
    "#### Some Notes: \n",
    "###### An n game road trip may be a fraction of a larger road trip. For example, a 5 game road trip consists of a 4 game road trip, a 3 game road trip, etc...\n",
    "###### Therefore, when I refer to a n game road trip, it does not imply that the n + 1 game is a home game. \n",
    "###### However, all road trips start from the first away game following a home game. For example, the last 3 games of a 5 game road trip is not a 3 game road trip. However, the first 3 games of a 5 game road trip is a 3 game road trip. \n",
    "###### All travel distances are approximated as the distance between the home cities of each team. For example, If the 76ers played an away  game against the Celtics, the distance traveled would be estimated as the distance between Philadelphia and Boston, according to this API: https://www.distance24.org/api.xhtml\n",
    "###### I did not consider games played between the Clippers and Lakers in my calculations, as they share a stadium, which pretty much defeats the purpose of home v. away. \n"
   ]
  },
  {
   "cell_type": "code",
   "execution_count": 7,
   "metadata": {},
   "outputs": [],
   "source": [
    "# Map each team to its home city \n",
    "\n",
    "team_cities = {\n",
    "    \"PHILADELPHIA 76ERS\": \"Philadelphia\" , \n",
    "    \"LOS ANGELES LAKERS\": \"Los Angeles\" , \n",
    "    \"NEW ORLEANS PELICANS\": \"New Orleans\" , \n",
    "    \"PORTLAND TRAIL BLAZERS\": \"Portland\" , \n",
    "    \"PHOENIX SUNS\": \"Phoenix\" , \n",
    "    \"MEMPHIS GRIZZLIES\": \"Memphis\",\n",
    "    \"SAN ANTONIO SPURS\" : \"San Antonio\", \n",
    "    \"WASHINGTON WIZARDS\" : \"Washington DC\", \n",
    "    \"CHARLOTTE HORNETS\" : \"Charlotte\", \n",
    "    \"ORLANDO MAGIC\" : \"Orlando\", \n",
    "    \"BOSTON CELTICS\" : \"Boston\", \n",
    "    \"INDIANA PACERS\" : \"Indiana\", \n",
    "    \"UTAH JAZZ\" : \"Salt Lake City\", \n",
    "    \"LOS ANGELES CLIPPERS\": \"Los Angeles\", \n",
    "    \"CHICAGO BULLS\" : \"Chicago\", \n",
    "    \"NEW YORK KNICKS\": \"New York City\", \n",
    "    \"BROOKLYN NETS\": \"Brooklyn\", \n",
    "    \"HOUSTON ROCKETS\": \"Houston\", \n",
    "    \"DALLAS MAVERICKS\" : \"Dallas\", \n",
    "    \"GOLDEN STATE WARRIORS\": \"San Francisco\", \n",
    "    \"MINNESOTA TIMBERWOLVES\" : \"Minneapolis\", \n",
    "    \"ATLANTA HAWKS\" : \"Atlanta\", \n",
    "    \"OKLAHOMA CITY THUNDER\" : \"Oklahoma City\", \n",
    "    \"MIAMI HEAT\" : \"Miami\", \n",
    "    \"DENVER NUGGETS\" : \"Denver\", \n",
    "    \"DETROIT PISTONS\" : \"Detroit\", \n",
    "    \"SACRAMENTO KINGS\" : \"Sacramento\",  \n",
    "    \"TORONTO RAPTORS\" : \"Toronto\", \n",
    "    \"CLEVELAND CAVALIERS\" : \"Cleveland\", \n",
    "    \"MILWAUKEE BUCKS\" : \"Milwaukee\",\n",
    "    \"NEW JERSEY NETS\" : \"East Rutherford\", \n",
    "    \"CHARLOTTE BOBCATS\" : \"Charlotte\", \n",
    "    \"NEW ORLEANS HORNETS\" : \"New Orleans\" \n",
    "}"
   ]
  },
  {
   "cell_type": "code",
   "execution_count": 9,
   "metadata": {},
   "outputs": [
    {
     "name": "stdout",
     "output_type": "stream",
     "text": [
      "0.0% done\n",
      "10.0% done\n",
      "20.0% done\n",
      "30.0% done\n",
      "40.0% done\n",
      "50.0% done\n",
      "60.0% done\n",
      "70.0% done\n",
      "80.0% done\n",
      "90.0% done\n",
      "100% done\n"
     ]
    }
   ],
   "source": [
    "# Lets find out if winning an away game is correlated with distance traveled \n",
    "import json\n",
    "import requests\n",
    "\n",
    "class TeamTravelingVsWinning: \n",
    "    def __init__(self, team, year):\n",
    "        # each object of this class will be associated with a unique NBA team and year \n",
    "        self.year = year \n",
    "        self.team = team  \n",
    "        \n",
    "        self.home_city = team_cities[team]  # city of the team \n",
    "        self.curr_city = team_cities[team]  # current location of the team (initialized to the home city)\n",
    "        self.games_played = 0  # keeps track of the current game # \n",
    "        \n",
    "        num_games = 82 if year != 2012 else 66 # only 66 games were played in the 2011-12 season\n",
    "        \n",
    "        if self.year == 2013:\n",
    "            if self.team == \"BOSTON CELTICS\" or self.team == \"INDIANA PACERS\": # 1 game cancelled bc of boston marathon bombing  \n",
    "                num_games = 81 \n",
    "        \n",
    "        #  As we iterate through the season's games, we will maintain this table for each team \n",
    "        self.table = {\n",
    "            \"cumulative_distance\" : [0 for i in range(num_games)], \n",
    "            \"n_game_road_trip\" : [0 for i in range(num_games)], \n",
    "            \"win?\" : [None for i in range(num_games)]\n",
    "        }\n",
    "        \n",
    "        # The teams dictionary will store a team for every (year, team) combination\n",
    "        # Some combinations will be invalid, for instance the Charlotte Bobcats were not a team after 2013-14\n",
    "        self.valid = False \n",
    "    \n",
    "    def add_game(self, home_team, h_pnts, v_pnts):\n",
    "        if  self.home_city != team_cities[home_team]: \n",
    "            cities = \"stops=%s|%s\" % (self.curr_city, team_cities[home_team])\n",
    "            ep = \"https://www.distance24.org/route.json?%s\" % cities\n",
    "            dist = requests.get(ep).json()[\"distance\"]\n",
    "            prev_road_count = self.table[\"n_game_road_trip\"][self.games_played - 1]\n",
    "            prev_cumulative_dist = self.table[\"cumulative_distance\"][self.games_played - 1]\n",
    "            self.table[\"n_game_road_trip\"][self.games_played] = prev_road_count + 1 \n",
    "            self.table[\"cumulative_distance\"][self.games_played] = prev_cumulative_dist + dist \n",
    "        else: \n",
    "            self.table[\"n_game_road_trip\"][self.games_played] = 0 \n",
    "            self.table[\"cumulative_distance\"][self.games_played] = 0 \n",
    "        if self.team == home_team: \n",
    "            self.table[\"win?\"][self.games_played] = 1 if h_pnts > v_pnts else 0 \n",
    "        else: \n",
    "            self.table[\"win?\"][self.games_played] = 0 if h_pnts > v_pnts else 1 \n",
    "        self.valid = True # if this method is accessed, it means that this team is \"valid\" \n",
    "        self.games_played += 1  \n",
    "        self.curr_city = team_cities[home_team] \n",
    "\n",
    "teams = {} \n",
    "for year in range(START_YEAR, END_YEAR): \n",
    "    for team in team_cities: \n",
    "        teams[(team, year)] = TeamTravelingVsWinning(team, year)\n",
    "\n",
    "for year in range(START_YEAR, END_YEAR): \n",
    "    print(str((year - START_YEAR) / (END_YEAR - START_YEAR) * 100) + '% done')\n",
    "    for row in allgames[year - START_YEAR].iterrows():\n",
    "        visitor = row[1].loc[\"away_team\"]\n",
    "        home_team = row[1].loc[\"home_team\"] \n",
    "        h_pnts = row[1].loc[\"home_team_score\"] \n",
    "        v_pnts = row[1].loc[\"away_team_score\"]\n",
    "        teams[(visitor, year)].add_game(home_team, h_pnts, v_pnts) \n",
    "        teams[(home_team, year)].add_game(home_team, h_pnts, v_pnts) \n",
    "\n",
    "print(\"100% done\")\n",
    "        \n",
    "        "
   ]
  },
  {
   "cell_type": "code",
   "execution_count": 10,
   "metadata": {
    "scrolled": false
   },
   "outputs": [],
   "source": [
    "# Lets save each team's table as a csv, because that took a while to calculate \n",
    "dfs = {(team, year):pd.DataFrame.from_dict(data.table) for (team, year), data in teams.items() \n",
    "       if data.valid}\n",
    "for (team, year), df in dfs.items(): \n",
    "    name = \"%s%s.csv\" % (team, year)\n",
    "    path = 'TeamTravelDistVsWinning/%s' % name\n",
    "    df.to_csv(path, index = False)\n"
   ]
  },
  {
   "cell_type": "code",
   "execution_count": 14,
   "metadata": {},
   "outputs": [
    {
     "data": {
      "text/html": [
       "<div>\n",
       "<style scoped>\n",
       "    .dataframe tbody tr th:only-of-type {\n",
       "        vertical-align: middle;\n",
       "    }\n",
       "\n",
       "    .dataframe tbody tr th {\n",
       "        vertical-align: top;\n",
       "    }\n",
       "\n",
       "    .dataframe thead th {\n",
       "        text-align: right;\n",
       "    }\n",
       "</style>\n",
       "<table border=\"1\" class=\"dataframe\">\n",
       "  <thead>\n",
       "    <tr style=\"text-align: right;\">\n",
       "      <th></th>\n",
       "      <th>cumulative_distance</th>\n",
       "      <th>n_game_road_trip</th>\n",
       "      <th>win?</th>\n",
       "    </tr>\n",
       "  </thead>\n",
       "  <tbody>\n",
       "    <tr>\n",
       "      <th>0</th>\n",
       "      <td>8</td>\n",
       "      <td>1</td>\n",
       "      <td>0</td>\n",
       "    </tr>\n",
       "    <tr>\n",
       "      <th>1</th>\n",
       "      <td>8</td>\n",
       "      <td>1</td>\n",
       "      <td>1</td>\n",
       "    </tr>\n",
       "    <tr>\n",
       "      <th>2</th>\n",
       "      <td>8</td>\n",
       "      <td>1</td>\n",
       "      <td>0</td>\n",
       "    </tr>\n",
       "    <tr>\n",
       "      <th>3</th>\n",
       "      <td>8</td>\n",
       "      <td>1</td>\n",
       "      <td>1</td>\n",
       "    </tr>\n",
       "    <tr>\n",
       "      <th>4</th>\n",
       "      <td>8</td>\n",
       "      <td>1</td>\n",
       "      <td>1</td>\n",
       "    </tr>\n",
       "    <tr>\n",
       "      <th>...</th>\n",
       "      <td>...</td>\n",
       "      <td>...</td>\n",
       "      <td>...</td>\n",
       "    </tr>\n",
       "    <tr>\n",
       "      <th>12015</th>\n",
       "      <td>11169</td>\n",
       "      <td>6</td>\n",
       "      <td>0</td>\n",
       "    </tr>\n",
       "    <tr>\n",
       "      <th>12016</th>\n",
       "      <td>11282</td>\n",
       "      <td>8</td>\n",
       "      <td>1</td>\n",
       "    </tr>\n",
       "    <tr>\n",
       "      <th>12017</th>\n",
       "      <td>11427</td>\n",
       "      <td>9</td>\n",
       "      <td>0</td>\n",
       "    </tr>\n",
       "    <tr>\n",
       "      <th>12018</th>\n",
       "      <td>12482</td>\n",
       "      <td>9</td>\n",
       "      <td>0</td>\n",
       "    </tr>\n",
       "    <tr>\n",
       "      <th>12019</th>\n",
       "      <td>13039</td>\n",
       "      <td>8</td>\n",
       "      <td>0</td>\n",
       "    </tr>\n",
       "  </tbody>\n",
       "</table>\n",
       "<p>12020 rows × 3 columns</p>\n",
       "</div>"
      ],
      "text/plain": [
       "       cumulative_distance  n_game_road_trip  win?\n",
       "0                        8                 1     0\n",
       "1                        8                 1     1\n",
       "2                        8                 1     0\n",
       "3                        8                 1     1\n",
       "4                        8                 1     1\n",
       "...                    ...               ...   ...\n",
       "12015                11169                 6     0\n",
       "12016                11282                 8     1\n",
       "12017                11427                 9     0\n",
       "12018                12482                 9     0\n",
       "12019                13039                 8     0\n",
       "\n",
       "[12020 rows x 3 columns]"
      ]
     },
     "metadata": {},
     "output_type": "display_data"
    },
    {
     "data": {
      "text/plain": [
       "count    12020.000000\n",
       "mean      2548.822463\n",
       "std       1885.250738\n",
       "min          8.000000\n",
       "25%       1067.000000\n",
       "50%       2051.000000\n",
       "75%       3628.000000\n",
       "max      13039.000000\n",
       "Name: cumulative_distance, dtype: float64"
      ]
     },
     "execution_count": 14,
     "metadata": {},
     "output_type": "execute_result"
    }
   ],
   "source": [
    "# Now, let's compile each teams data into one big DataFrame\n",
    "\n",
    "team_travel_data = []\n",
    "for year in range(START_YEAR, END_YEAR):\n",
    "    for team, city in team_cities.items(): \n",
    "        file = \"%s%s.csv\" % (team, year) \n",
    "        try:\n",
    "            team_travel_data.append(pd.read_csv('TeamTravelDistVsWinning/%s' % file))\n",
    "        except FileNotFoundError: # not every team, city combination is a valid team \n",
    "            continue \n",
    "\n",
    "complete_data = pd.concat(team_travel_data)\n",
    "\n",
    "# delete home games \n",
    "complete_data = complete_data[complete_data['n_game_road_trip'] > 0]\n",
    "\n",
    "# get table sorted by distance\n",
    "complete_data.sort_values(by = ['cumulative_distance', 'n_game_road_trip'], inplace = True)\n",
    "\n",
    "# reset indices \n",
    "complete_data.reset_index(drop=True, inplace=True)\n",
    "\n",
    "# there are only 1226 games shown because of the 4 Lakers Clippers matchups \n",
    "display(complete_data)\n",
    "\n",
    "complete_data['cumulative_distance'].describe()\n",
    "# complete_data['n_game_road_trip'].describe()\n",
    "\n",
    "\n"
   ]
  },
  {
   "cell_type": "code",
   "execution_count": 18,
   "metadata": {},
   "outputs": [
    {
     "name": "stdout",
     "output_type": "stream",
     "text": [
      "n = 1: 5965\n",
      "n = 2: 3039\n",
      "n = 3: 1581\n",
      "n = 4: 814\n",
      "n = 5: 372\n",
      "n = 6: 157\n",
      "n = 7: 58\n",
      "n = 8: 25\n",
      "n = 9: 8\n",
      "n = 10: 1\n"
     ]
    }
   ],
   "source": [
    "# Explore sample size for each road trip length for different values of n \n",
    "\n",
    "for i in range(1, 11):\n",
    "    print(\"n = %s:\" % str(i), complete_data[complete_data['n_game_road_trip'] == i].shape[0])"
   ]
  },
  {
   "cell_type": "code",
   "execution_count": 19,
   "metadata": {},
   "outputs": [
    {
     "data": {
      "text/html": [
       "<div>\n",
       "<style scoped>\n",
       "    .dataframe tbody tr th:only-of-type {\n",
       "        vertical-align: middle;\n",
       "    }\n",
       "\n",
       "    .dataframe tbody tr th {\n",
       "        vertical-align: top;\n",
       "    }\n",
       "\n",
       "    .dataframe thead th {\n",
       "        text-align: right;\n",
       "    }\n",
       "</style>\n",
       "<table border=\"1\" class=\"dataframe\">\n",
       "  <thead>\n",
       "    <tr style=\"text-align: right;\">\n",
       "      <th></th>\n",
       "      <th>sample size</th>\n",
       "      <th>nth game of road trip</th>\n",
       "      <th>mean travel distance</th>\n",
       "      <th>games won</th>\n",
       "      <th>expected games won</th>\n",
       "      <th>win %</th>\n",
       "    </tr>\n",
       "  </thead>\n",
       "  <tbody>\n",
       "    <tr>\n",
       "      <th>0</th>\n",
       "      <td>5965</td>\n",
       "      <td>1</td>\n",
       "      <td>1298.250293</td>\n",
       "      <td>2461</td>\n",
       "      <td>2448</td>\n",
       "      <td>0.412573</td>\n",
       "    </tr>\n",
       "    <tr>\n",
       "      <th>1</th>\n",
       "      <td>3039</td>\n",
       "      <td>2</td>\n",
       "      <td>2666.405067</td>\n",
       "      <td>1231</td>\n",
       "      <td>1247</td>\n",
       "      <td>0.405067</td>\n",
       "    </tr>\n",
       "    <tr>\n",
       "      <th>2</th>\n",
       "      <td>1581</td>\n",
       "      <td>3</td>\n",
       "      <td>3947.884250</td>\n",
       "      <td>637</td>\n",
       "      <td>648</td>\n",
       "      <td>0.402910</td>\n",
       "    </tr>\n",
       "    <tr>\n",
       "      <th>3</th>\n",
       "      <td>814</td>\n",
       "      <td>4</td>\n",
       "      <td>5218.847666</td>\n",
       "      <td>327</td>\n",
       "      <td>334</td>\n",
       "      <td>0.401720</td>\n",
       "    </tr>\n",
       "    <tr>\n",
       "      <th>4</th>\n",
       "      <td>372</td>\n",
       "      <td>5</td>\n",
       "      <td>6243.266129</td>\n",
       "      <td>166</td>\n",
       "      <td>152</td>\n",
       "      <td>0.446237</td>\n",
       "    </tr>\n",
       "    <tr>\n",
       "      <th>5</th>\n",
       "      <td>157</td>\n",
       "      <td>6</td>\n",
       "      <td>7337.318471</td>\n",
       "      <td>70</td>\n",
       "      <td>64</td>\n",
       "      <td>0.445860</td>\n",
       "    </tr>\n",
       "    <tr>\n",
       "      <th>6</th>\n",
       "      <td>92</td>\n",
       "      <td>&gt;6</td>\n",
       "      <td>8971.489130</td>\n",
       "      <td>40</td>\n",
       "      <td>37</td>\n",
       "      <td>0.434783</td>\n",
       "    </tr>\n",
       "  </tbody>\n",
       "</table>\n",
       "</div>"
      ],
      "text/plain": [
       "   sample size nth game of road trip  mean travel distance  games won  \\\n",
       "0         5965                     1           1298.250293       2461   \n",
       "1         3039                     2           2666.405067       1231   \n",
       "2         1581                     3           3947.884250        637   \n",
       "3          814                     4           5218.847666        327   \n",
       "4          372                     5           6243.266129        166   \n",
       "5          157                     6           7337.318471         70   \n",
       "6           92                    >6           8971.489130         40   \n",
       "\n",
       "   expected games won     win %  \n",
       "0                2448  0.412573  \n",
       "1                1247  0.405067  \n",
       "2                 648  0.402910  \n",
       "3                 334  0.401720  \n",
       "4                 152  0.446237  \n",
       "5                  64  0.445860  \n",
       "6                  37  0.434783  "
      ]
     },
     "metadata": {},
     "output_type": "display_data"
    }
   ],
   "source": [
    "# We have to figure out a way to bin this data \n",
    "# It makes the most sense to do bins of 1, 2, 3, 4, 5, 6 and > 6 so each bin is sufficiently large\n",
    "\n",
    "AWAY_WIN_PERCENTAGE = 1 - home_win_percentage \n",
    "\n",
    "data_dict = {\n",
    "    \"sample size\": [],\n",
    "    \"nth game of road trip\": [],\n",
    "    \"mean travel distance\" : [],\n",
    "    \"games won\" : [], \n",
    "    \"expected games won\" : [], # if winning is independent of the length of road trip, how many games should be won? \n",
    "    \"win %\" : []\n",
    "}\n",
    "for i in range(1, 7): # first we will calculate the data for the bins 1 - 6\n",
    "    i_data = complete_data[complete_data['n_game_road_trip'] == i]\n",
    "    i_games_won = int(i_data['win?'].sum()) \n",
    "    i_size = i_data.shape[0] \n",
    "    i_winpercentage = i_games_won / i_size\n",
    "    i_mean_traveldist = i_data[\"cumulative_distance\"].mean()\n",
    "    data_dict[\"sample size\"].append(i_size)\n",
    "    data_dict[\"win %\"].append(i_winpercentage)\n",
    "    data_dict[\"nth game of road trip\"].append(str(i)) \n",
    "    data_dict[\"mean travel distance\"].append(i_mean_traveldist)\n",
    "    data_dict[\"games won\"].append(i_games_won) \n",
    "    data_dict[\"expected games won\"].append(int(i_size * AWAY_WIN_PERCENTAGE))\n",
    "\n",
    "# for road trips of size > 6\n",
    "greater_than_6 = complete_data[complete_data['n_game_road_trip'] > 6] \n",
    "data_dict[\"sample size\"].append(greater_than_6.shape[0]) \n",
    "data_dict[\"win %\"].append(greater_than_6[\"win?\"].sum() / greater_than_6.shape[0])\n",
    "data_dict[\"nth game of road trip\"].append(\">6\") \n",
    "data_dict[\"mean travel distance\"].append(greater_than_6[\"cumulative_distance\"].mean())\n",
    "data_dict[\"games won\"].append(int(greater_than_6[\"win?\"].sum())) \n",
    "data_dict[\"expected games won\"].append(int(greater_than_6.shape[0] * AWAY_WIN_PERCENTAGE))\n",
    "\n",
    "wins_vs_roadtrip = pd.DataFrame.from_dict(data_dict) \n",
    "    \n",
    "display(wins_vs_roadtrip) "
   ]
  },
  {
   "cell_type": "code",
   "execution_count": 20,
   "metadata": {},
   "outputs": [
    {
     "name": "stdout",
     "output_type": "stream",
     "text": [
      "Power_divergenceResult(statistic=2.70298055954023, pvalue=0.845095121042608)\n"
     ]
    }
   ],
   "source": [
    "# is this data significant?\n",
    "\n",
    "from scipy.stats import chisquare\n",
    "\n",
    "results = chisquare(data_dict[\"games won\"], data_dict[\"expected games won\"])\n",
    "\n",
    "print(results) \n",
    "\n",
    "# There is about an 85% chance that these results are strongly\n"
   ]
  },
  {
   "cell_type": "markdown",
   "metadata": {},
   "source": [
    "# Visualizations"
   ]
  },
  {
   "cell_type": "code",
   "execution_count": 21,
   "metadata": {},
   "outputs": [
    {
     "data": {
      "text/plain": [
       "<seaborn.axisgrid.FacetGrid at 0x7f5584dd2a00>"
      ]
     },
     "execution_count": 21,
     "metadata": {},
     "output_type": "execute_result"
    },
    {
     "data": {
      "image/png": "[encoded data removed]",
      "text/plain": [
       "<Figure size 360x360 with 1 Axes>"
      ]
     },
     "metadata": {
      "needs_background": "light"
     },
     "output_type": "display_data"
    }
   ],
   "source": [
    "# Visualization of distance traveled vs length of trip \n",
    "\n",
    "import numpy as np\n",
    "import seaborn as sns\n",
    "import matplotlib.pyplot as plt\n",
    "\n",
    "sns.lmplot(x = \"n_game_road_trip\", y = \"cumulative_distance\", data = complete_data)\n"
   ]
  },
  {
   "cell_type": "code",
   "execution_count": null,
   "metadata": {},
   "outputs": [],
   "source": []
  },
  {
   "cell_type": "code",
   "execution_count": null,
   "metadata": {},
   "outputs": [],
   "source": []
  }
 ],
 "metadata": {
  "kernelspec": {
   "display_name": "Python 3",
   "language": "python",
   "name": "python3"
  },
  "language_info": {
   "codemirror_mode": {
    "name": "ipython",
    "version": 3
   },
   "file_extension": ".py",
   "mimetype": "text/x-python",
   "name": "python",
   "nbconvert_exporter": "python",
   "pygments_lexer": "ipython3",
   "version": "3.9.1"
  }
 },
 "nbformat": 4,
 "nbformat_minor": 4
}
