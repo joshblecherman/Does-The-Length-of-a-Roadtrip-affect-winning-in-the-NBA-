{
 "cells": [
  {
   "cell_type": "markdown",
   "metadata": {},
   "source": [
    "# Collecting Data"
   ]
  },
  {
   "cell_type": "code",
   "execution_count": 1,
   "metadata": {},
   "outputs": [],
   "source": [
    "import pandas as pd\n",
    "from basketball_reference_web_scraper import client\n",
    "from basketball_reference_web_scraper.data import OutputType"
   ]
  },
  {
   "cell_type": "code",
   "execution_count": 2,
   "metadata": {},
   "outputs": [],
   "source": [
    "# the seasons we will be working with, END_YEAR not included (2009-10 through 2018-19) \n",
    "\n",
    "START_YEAR, END_YEAR = 2010, 2020 "
   ]
  },
  {
   "cell_type": "code",
   "execution_count": 4,
   "metadata": {
    "scrolled": true
   },
   "outputs": [],
   "source": [
    "for year in range(START_YEAR, END_YEAR):\n",
    "    client.season_schedule(\n",
    "        season_end_year=year, \n",
    "        output_type=OutputType.CSV, \n",
    "        output_file_path = \"./Games/allgames%s.csv\" % str(year)\n",
    "    )"
   ]
  },
  {
   "cell_type": "code",
   "execution_count": 3,
   "metadata": {},
   "outputs": [],
   "source": [
    "# compile all of the seasons into one list, and only include regular season games \n",
    "\n",
    "shortened_years = {\n",
    "    2012: 990, \n",
    "    2013: 1229 \n",
    "}\n",
    "\n",
    "allgames = [pd.read_csv(\"./Games/allgames%s.csv\" % (year)).iloc[range(0, 1230), :] if year not in shortened_years \n",
    "            else pd.read_csv(\"./Games/allgames%s.csv\" % (year)).iloc[range(0, shortened_years[year]), :]  \n",
    "            for year in range(START_YEAR, END_YEAR)]"
   ]
  },
  {
   "cell_type": "code",
   "execution_count": 4,
   "metadata": {},
   "outputs": [
    {
     "name": "stdout",
     "output_type": "stream",
     "text": [
      "0.5896011277883738\n"
     ]
    }
   ],
   "source": [
    "# add column for home win\n",
    "for game in allgames: \n",
    "    game[\"home_team_win?\"] = game[\"home_team_score\"] > game[\"away_team_score\"]\n",
    "\n",
    "    \n",
    "# what is the home team win % over these 10 regular seasons? \n",
    "num_home_wins = sum([game[\"home_team_win?\"].sum() for game in allgames]) \n",
    "num_games = sum([game.shape[0] for game in allgames])\n",
    "\n",
    "home_win_percentage = num_home_wins / num_games \n",
    "print(home_win_percentage)"
   ]
  },
  {
   "cell_type": "markdown",
   "metadata": {},
   "source": [
    "# Finding Travel Distance Between Each Road Game"
   ]
  },
  {
   "cell_type": "markdown",
   "metadata": {},
   "source": [
    "# Some Definitions: \n",
    "###### road trip: Any continuous stretch of away games directly following a home game (the length is the # of games played)\n",
    "###### cumulative distance: Refers to the total distance traveled from game to game during a road trip \n",
    "###### n game road trip: A road trip of length n, where length is measured in the number of games played\n",
    "\n",
    "\n",
    "#### Some Notes: \n",
    "###### An n game road trip may be a fraction of a larger road trip. For example, a 5 game road trip consists of a 4 game road trip, a 3 game road trip, etc...\n",
    "###### Therefore, when I refer to a n game road trip, it does not imply that the n + 1 game is a home game. \n",
    "###### However, all road trips start from the first away game following a home game. For example, the last 3 games of a 5 game road trip is not a 3 game road trip. However, the first 3 games of a 5 game road trip is a 3 game road trip. \n",
    "###### All travel distances are approximated as the distance between the home cities of each team. For example, If the 76ers played an away  game against the Celtics, the distance traveled would be estimated as the distance between Philadelphia and Boston, according to this API: https://www.distance24.org/api.xhtml\n",
    "###### I did not consider games played between the Clippers and Lakers in my calculations, as they share a stadium, which pretty much defeats the purpose of home v. away. \n"
   ]
  },
  {
   "cell_type": "code",
   "execution_count": 5,
   "metadata": {},
   "outputs": [],
   "source": [
    "# Map each team to its home city \n",
    "\n",
    "team_cities = {\n",
    "    \"PHILADELPHIA 76ERS\": \"Philadelphia\" , \n",
    "    \"LOS ANGELES LAKERS\": \"Los Angeles\" , \n",
    "    \"NEW ORLEANS PELICANS\": \"New Orleans\" , \n",
    "    \"PORTLAND TRAIL BLAZERS\": \"Portland\" , \n",
    "    \"PHOENIX SUNS\": \"Phoenix\" , \n",
    "    \"MEMPHIS GRIZZLIES\": \"Memphis\",\n",
    "    \"SAN ANTONIO SPURS\" : \"San Antonio\", \n",
    "    \"WASHINGTON WIZARDS\" : \"Washington DC\", \n",
    "    \"CHARLOTTE HORNETS\" : \"Charlotte\", \n",
    "    \"ORLANDO MAGIC\" : \"Orlando\", \n",
    "    \"BOSTON CELTICS\" : \"Boston\", \n",
    "    \"INDIANA PACERS\" : \"Indiana\", \n",
    "    \"UTAH JAZZ\" : \"Salt Lake City\", \n",
    "    \"LOS ANGELES CLIPPERS\": \"Los Angeles\", \n",
    "    \"CHICAGO BULLS\" : \"Chicago\", \n",
    "    \"NEW YORK KNICKS\": \"New York City\", \n",
    "    \"BROOKLYN NETS\": \"Brooklyn\", \n",
    "    \"HOUSTON ROCKETS\": \"Houston\", \n",
    "    \"DALLAS MAVERICKS\" : \"Dallas\", \n",
    "    \"GOLDEN STATE WARRIORS\": \"San Francisco\", \n",
    "    \"MINNESOTA TIMBERWOLVES\" : \"Minneapolis\", \n",
    "    \"ATLANTA HAWKS\" : \"Atlanta\", \n",
    "    \"OKLAHOMA CITY THUNDER\" : \"Oklahoma City\", \n",
    "    \"MIAMI HEAT\" : \"Miami\", \n",
    "    \"DENVER NUGGETS\" : \"Denver\", \n",
    "    \"DETROIT PISTONS\" : \"Detroit\", \n",
    "    \"SACRAMENTO KINGS\" : \"Sacramento\",  \n",
    "    \"TORONTO RAPTORS\" : \"Toronto\", \n",
    "    \"CLEVELAND CAVALIERS\" : \"Cleveland\", \n",
    "    \"MILWAUKEE BUCKS\" : \"Milwaukee\",\n",
    "    \"NEW JERSEY NETS\" : \"East Rutherford\", \n",
    "    \"CHARLOTTE BOBCATS\" : \"Charlotte\", \n",
    "    \"NEW ORLEANS HORNETS\" : \"New Orleans\" \n",
    "}"
   ]
  },
  {
   "cell_type": "code",
   "execution_count": 6,
   "metadata": {},
   "outputs": [],
   "source": [
    "# Lets find out if winning an away game is correlated with distance traveled \n",
    "import json\n",
    "import requests\n",
    "\n",
    "class TeamTravelingVsWinning: \n",
    "    def __init__(self, team, year):\n",
    "        # each object of this class will be associated with a unique NBA team and year \n",
    "        self.year = year \n",
    "        self.team = team  \n",
    "        \n",
    "        self.home_city = team_cities[team]  # city of the team \n",
    "        self.curr_city = team_cities[team]  # current location of the team (initialized to the home city)\n",
    "        self.games_played = 0  # keeps track of the current game # \n",
    "        \n",
    "        num_games = 82 if year != 2012 else 66 # only 66 games were played in the 2011-12 season\n",
    "        \n",
    "        if self.year == 2013:\n",
    "            if self.team == \"BOSTON CELTICS\" or self.team == \"INDIANA PACERS\": # 1 game cancelled bc of boston marathon bombing  \n",
    "                num_games = 81 \n",
    "        \n",
    "        #  As we iterate through the season's games, we will maintain this table for each team \n",
    "        self.table = {\n",
    "            \"cumulative_distance\" : [0 for i in range(num_games)], \n",
    "            \"n_game_road_trip\" : [0 for i in range(num_games)], \n",
    "            \"win?\" : [None for i in range(num_games)]\n",
    "        }\n",
    "        \n",
    "        # The teams dictionary will store a team for every (year, team) combination\n",
    "        # Some combinations will be invalid, for instance the Charlotte Bobcats were not a team after 2013-14\n",
    "        self.valid = False \n",
    "    \n",
    "    def add_game(self, home_team, h_pnts, v_pnts):\n",
    "        if  self.home_city != team_cities[home_team]: \n",
    "            cities = \"stops=%s|%s\" % (self.curr_city, team_cities[home_team])\n",
    "            ep = \"https://www.distance24.org/route.json?%s\" % cities\n",
    "            dist = requests.get(ep).json()[\"distance\"]\n",
    "            prev_road_count = self.table[\"n_game_road_trip\"][self.games_played - 1]\n",
    "            prev_cumulative_dist = self.table[\"cumulative_distance\"][self.games_played - 1]\n",
    "            self.table[\"n_game_road_trip\"][self.games_played] = prev_road_count + 1 \n",
    "            self.table[\"cumulative_distance\"][self.games_played] = prev_cumulative_dist + dist \n",
    "        else: \n",
    "            self.table[\"n_game_road_trip\"][self.games_played] = 0 \n",
    "            self.table[\"cumulative_distance\"][self.games_played] = 0 \n",
    "        if self.team == home_team: \n",
    "            self.table[\"win?\"][self.games_played] = 1 if h_pnts > v_pnts else 0 \n",
    "        else: \n",
    "            self.table[\"win?\"][self.games_played] = 0 if h_pnts > v_pnts else 1 \n",
    "        self.valid = True # if this method is accessed, it means that this team is \"valid\" \n",
    "        self.games_played += 1  \n",
    "        self.curr_city = team_cities[home_team] \n",
    "\n",
    "teams = {} \n",
    "for year in range(START_YEAR, END_YEAR): \n",
    "    for team in team_cities: \n",
    "        teams[(team, year)] = TeamTravelingVsWinning(team, year)\n"
   ]
  },
  {
   "cell_type": "code",
   "execution_count": 9,
   "metadata": {},
   "outputs": [
    {
     "name": "stdout",
     "output_type": "stream",
     "text": [
      "0.0% done\n",
      "10.0% done\n",
      "20.0% done\n",
      "30.0% done\n",
      "40.0% done\n",
      "50.0% done\n",
      "60.0% done\n",
      "70.0% done\n",
      "80.0% done\n",
      "90.0% done\n",
      "100% done\n"
     ]
    }
   ],
   "source": [
    "for year in range(START_YEAR, END_YEAR): \n",
    "    print(str((year - START_YEAR) / (END_YEAR - START_YEAR) * 100) + '% done')\n",
    "    for row in allgames[year - START_YEAR].iterrows():\n",
    "        visitor = row[1].loc[\"away_team\"]\n",
    "        home_team = row[1].loc[\"home_team\"] \n",
    "        h_pnts = row[1].loc[\"home_team_score\"] \n",
    "        v_pnts = row[1].loc[\"away_team_score\"]\n",
    "        teams[(visitor, year)].add_game(home_team, h_pnts, v_pnts) \n",
    "        teams[(home_team, year)].add_game(home_team, h_pnts, v_pnts) \n",
    "\n",
    "print(\"100% done\")\n",
    "        \n",
    "        "
   ]
  },
  {
   "cell_type": "code",
   "execution_count": 7,
   "metadata": {
    "scrolled": false
   },
   "outputs": [],
   "source": [
    "# Lets save each team's table as a csv, because that took a while to calculate \n",
    "dfs = {(team, year):pd.DataFrame.from_dict(data.table) for (team, year), data in teams.items() \n",
    "       if data.valid}\n",
    "for (team, year), df in dfs.items(): \n",
    "    name = \"%s%s.csv\" % (team, year)\n",
    "    path = 'TeamTravelDistVsWinning/%s' % name\n",
    "    df.to_csv(path, index = False)\n"
   ]
  },
  {
   "cell_type": "code",
   "execution_count": 8,
   "metadata": {},
   "outputs": [
    {
     "data": {
      "text/plain": [
       "count    11497.000000\n",
       "mean      2553.096199\n",
       "std       1886.785187\n",
       "min          8.000000\n",
       "25%       1067.000000\n",
       "50%       2061.000000\n",
       "75%       3635.000000\n",
       "max      13039.000000\n",
       "Name: cumulative_distance, dtype: float64"
      ]
     },
     "execution_count": 8,
     "metadata": {},
     "output_type": "execute_result"
    }
   ],
   "source": [
    "# Now, let's compile each teams data into one big DataFrame\n",
    "\n",
    "team_travel_data = []\n",
    "for year in range(START_YEAR, END_YEAR):\n",
    "    for team, city in team_cities.items(): \n",
    "        file = \"%s%s.csv\" % (team, year) \n",
    "        try:\n",
    "            team_travel_data.append(pd.read_csv('TeamTravelDistVsWinning/%s' % file))\n",
    "        except FileNotFoundError: # not every team, city combination is a valid team \n",
    "            continue \n",
    "\n",
    "complete_data = pd.concat(team_travel_data)\n",
    "\n",
    "# delete home games \n",
    "complete_data = complete_data[complete_data['n_game_road_trip'] > 0]\n",
    "\n",
    "# get table sorted by distance\n",
    "complete_data.sort_values(by = ['cumulative_distance', 'n_game_road_trip'], inplace = True)\n",
    "\n",
    "# reset indices \n",
    "complete_data.reset_index(drop=True, inplace=True)\n",
    "\n",
    "complete_data['cumulative_distance'].describe()\n",
    "# complete_data['n_game_road_trip'].describe()\n"
   ]
  },
  {
   "cell_type": "code",
   "execution_count": 11,
   "metadata": {},
   "outputs": [],
   "source": [
    "# Save complete_data as a csv \n",
    "\n",
    "complete_data.to_csv(\"CompleteData/completedata.csv\")"
   ]
  },
  {
   "cell_type": "markdown",
   "metadata": {},
   "source": [
    "# Analysis"
   ]
  },
  {
   "cell_type": "code",
   "execution_count": 46,
   "metadata": {},
   "outputs": [
    {
     "name": "stdout",
     "output_type": "stream",
     "text": [
      "sample size for different values of n, where n is the length of a road trip\n",
      "n = 1: 5699\n",
      "n = 2: 2902\n",
      "n = 3: 1517\n",
      "n = 4: 778\n",
      "n = 5: 360\n",
      "n = 6: 153\n",
      "n = 7: 56\n",
      "n = 8: 23\n",
      "n = 9: 8\n",
      "n = 10: 1\n"
     ]
    }
   ],
   "source": [
    "# Explore sample size for each road trip length for different values of n \n",
    "\n",
    "complete_data = pd.read_csv(\"CompleteData/completedata.csv\")\n",
    "\n",
    "print(\"sample size for different values of n, where n is the length of a road trip\")\n",
    "for i in range(1, 11):\n",
    "    print(\"n = %s:\" % str(i), complete_data[complete_data['n_game_road_trip'] == i].shape[0])"
   ]
  },
  {
   "cell_type": "code",
   "execution_count": 47,
   "metadata": {},
   "outputs": [
    {
     "data": {
      "text/html": [
       "<div>\n",
       "<style scoped>\n",
       "    .dataframe tbody tr th:only-of-type {\n",
       "        vertical-align: middle;\n",
       "    }\n",
       "\n",
       "    .dataframe tbody tr th {\n",
       "        vertical-align: top;\n",
       "    }\n",
       "\n",
       "    .dataframe thead th {\n",
       "        text-align: right;\n",
       "    }\n",
       "</style>\n",
       "<table border=\"1\" class=\"dataframe\">\n",
       "  <thead>\n",
       "    <tr style=\"text-align: right;\">\n",
       "      <th></th>\n",
       "      <th>sample size</th>\n",
       "      <th>nth game of road trip</th>\n",
       "      <th>mean travel distance</th>\n",
       "      <th>games won</th>\n",
       "      <th>expected games won</th>\n",
       "      <th>win %</th>\n",
       "    </tr>\n",
       "  </thead>\n",
       "  <tbody>\n",
       "    <tr>\n",
       "      <th>0</th>\n",
       "      <td>5699</td>\n",
       "      <td>1</td>\n",
       "      <td>1300.371469</td>\n",
       "      <td>2334</td>\n",
       "      <td>2338</td>\n",
       "      <td>2334.0</td>\n",
       "    </tr>\n",
       "    <tr>\n",
       "      <th>1</th>\n",
       "      <td>2902</td>\n",
       "      <td>2</td>\n",
       "      <td>2667.374569</td>\n",
       "      <td>1163</td>\n",
       "      <td>1190</td>\n",
       "      <td>1163.0</td>\n",
       "    </tr>\n",
       "    <tr>\n",
       "      <th>2</th>\n",
       "      <td>1517</td>\n",
       "      <td>3</td>\n",
       "      <td>3945.589980</td>\n",
       "      <td>610</td>\n",
       "      <td>622</td>\n",
       "      <td>610.0</td>\n",
       "    </tr>\n",
       "    <tr>\n",
       "      <th>3</th>\n",
       "      <td>778</td>\n",
       "      <td>4</td>\n",
       "      <td>5204.464010</td>\n",
       "      <td>313</td>\n",
       "      <td>319</td>\n",
       "      <td>313.0</td>\n",
       "    </tr>\n",
       "    <tr>\n",
       "      <th>4</th>\n",
       "      <td>360</td>\n",
       "      <td>5</td>\n",
       "      <td>6247.044444</td>\n",
       "      <td>161</td>\n",
       "      <td>147</td>\n",
       "      <td>161.0</td>\n",
       "    </tr>\n",
       "    <tr>\n",
       "      <th>5</th>\n",
       "      <td>153</td>\n",
       "      <td>6</td>\n",
       "      <td>7342.411765</td>\n",
       "      <td>68</td>\n",
       "      <td>62</td>\n",
       "      <td>68.0</td>\n",
       "    </tr>\n",
       "    <tr>\n",
       "      <th>6</th>\n",
       "      <td>56</td>\n",
       "      <td>7</td>\n",
       "      <td>8497.160714</td>\n",
       "      <td>24</td>\n",
       "      <td>22</td>\n",
       "      <td>24.0</td>\n",
       "    </tr>\n",
       "    <tr>\n",
       "      <th>7</th>\n",
       "      <td>23</td>\n",
       "      <td>8</td>\n",
       "      <td>9692.956522</td>\n",
       "      <td>11</td>\n",
       "      <td>9</td>\n",
       "      <td>11.0</td>\n",
       "    </tr>\n",
       "    <tr>\n",
       "      <th>8</th>\n",
       "      <td>8</td>\n",
       "      <td>9</td>\n",
       "      <td>10707.125000</td>\n",
       "      <td>3</td>\n",
       "      <td>3</td>\n",
       "      <td>3.0</td>\n",
       "    </tr>\n",
       "    <tr>\n",
       "      <th>9</th>\n",
       "      <td>1</td>\n",
       "      <td>10</td>\n",
       "      <td>10115.000000</td>\n",
       "      <td>0</td>\n",
       "      <td>0</td>\n",
       "      <td>0.0</td>\n",
       "    </tr>\n",
       "  </tbody>\n",
       "</table>\n",
       "</div>"
      ],
      "text/plain": [
       "   sample size  nth game of road trip  mean travel distance  games won  \\\n",
       "0         5699                      1           1300.371469       2334   \n",
       "1         2902                      2           2667.374569       1163   \n",
       "2         1517                      3           3945.589980        610   \n",
       "3          778                      4           5204.464010        313   \n",
       "4          360                      5           6247.044444        161   \n",
       "5          153                      6           7342.411765         68   \n",
       "6           56                      7           8497.160714         24   \n",
       "7           23                      8           9692.956522         11   \n",
       "8            8                      9          10707.125000          3   \n",
       "9            1                     10          10115.000000          0   \n",
       "\n",
       "   expected games won   win %  \n",
       "0                2338  2334.0  \n",
       "1                1190  1163.0  \n",
       "2                 622   610.0  \n",
       "3                 319   313.0  \n",
       "4                 147   161.0  \n",
       "5                  62    68.0  \n",
       "6                  22    24.0  \n",
       "7                   9    11.0  \n",
       "8                   3     3.0  \n",
       "9                   0     0.0  "
      ]
     },
     "metadata": {},
     "output_type": "display_data"
    }
   ],
   "source": [
    "# We have to figure out a way to bin this data \n",
    "# It makes the most sense to do bins of 1, 2, 3, 4, 5, 6 and > 6 so each bin is sufficiently large\n",
    "\n",
    "AWAY_WIN_PERCENTAGE = 1 - home_win_percentage \n",
    "\n",
    "data_dict = {\n",
    "    \"sample size\": [],\n",
    "    \"nth game of road trip\": [],\n",
    "    \"mean travel distance\" : [],\n",
    "    \"games won\" : [], \n",
    "    \"expected games won\" : [], # if winning is independent of the length of road trip, how many games should be won? \n",
    "    \"win %\" : []\n",
    "}\n",
    "for i in range(1, 11): \n",
    "    data = complete_data[complete_data['n_game_road_trip'] == i]\n",
    "    games_won = int(data['win?'].sum()) \n",
    "    size = data.shape[0] \n",
    "    winpercentage = games_won / i_size\n",
    "    mean_traveldist = data[\"cumulative_distance\"].mean()\n",
    "    data_dict[\"sample size\"].append(size)\n",
    "    data_dict[\"win %\"].append(winpercentage)\n",
    "    data_dict[\"nth game of road trip\"].append(i) \n",
    "    data_dict[\"mean travel distance\"].append(mean_traveldist)\n",
    "    data_dict[\"games won\"].append(games_won) \n",
    "    data_dict[\"expected games won\"].append(int(size * AWAY_WIN_PERCENTAGE))\n",
    "\n",
    "wins_vs_roadtrip = pd.DataFrame.from_dict(data_dict) \n",
    "    \n",
    "display(wins_vs_roadtrip) "
   ]
  },
  {
   "cell_type": "code",
   "execution_count": 48,
   "metadata": {},
   "outputs": [
    {
     "name": "stdout",
     "output_type": "stream",
     "text": [
      "[2334, 1163, 610, 313, 161, 68, 38] [2338, 1190, 622, 319, 147, 62, 34]\n",
      "Power_divergenceResult(statistic=3.348379146475928, pvalue=0.7640205652076703)\n"
     ]
    }
   ],
   "source": [
    "# is this data significant?\n",
    "\n",
    "from scipy.stats import chisquare\n",
    "\n",
    "observed = data_dict['games won'][0:6] \n",
    "observed.append(sum(data_dict['games won'][6:])) # combine the smaller sample sizes\n",
    "expected = data_dict['expected games won'][0:6]\n",
    "expected.append(sum(data_dict['expected games won'][6:])) # combine the smaller sample sizes\n",
    "\n",
    "print(observed, expected)\n",
    "results = chisquare(observed, expected)\n",
    "\n",
    "print(results) \n",
    "\n",
    "# According to this test, probably not \n",
    "# However, this was probably not the best test to use "
   ]
  },
  {
   "cell_type": "markdown",
   "metadata": {},
   "source": [
    "From the eye test, there seems to be a potentially significant jump in win % when a team is on their 5th or greater game of a road trip. Let's see if that is true using a difference of proportions test, with the two proportions being the wins during the nth game of the road trip for 1 <= n <= 4, and the wins for 5 <= n <= 10. "
   ]
  },
  {
   "cell_type": "code",
   "execution_count": 49,
   "metadata": {},
   "outputs": [],
   "source": [
    "import scipy.stats as st\n",
    "\n",
    "def diff_of_proportions_test(y1, n1, y2, n2): \n",
    "    p1, p2 = y1 / n1, y2 / n2 \n",
    "    p0 = (y1 + y2) / (n1 + n2)\n",
    "    z_obs = (p1 - p2) / ((p0 * (1 - p0) * (1/n1 + 1/n2)) ** .5) \n",
    "    return 1 - st.norm.cdf(z_obs) \n",
    "    "
   ]
  },
  {
   "cell_type": "code",
   "execution_count": 50,
   "metadata": {},
   "outputs": [
    {
     "data": {
      "text/plain": [
       "0.03039729368480515"
      ]
     },
     "execution_count": 50,
     "metadata": {},
     "output_type": "execute_result"
    }
   ],
   "source": [
    "p1_wins = wins_vs_roadtrip[wins_vs_roadtrip['nth game of road trip'] <= 4]['games won'].sum()\n",
    "p1_games = wins_vs_roadtrip[wins_vs_roadtrip['nth game of road trip'] <= 4]['sample size'].sum()\n",
    "\n",
    "p2_wins = wins_vs_roadtrip[wins_vs_roadtrip['nth game of road trip'] > 4]['games won'].sum()\n",
    "p2_games = wins_vs_roadtrip[wins_vs_roadtrip['nth game of road trip'] > 4]['sample size'].sum()\n",
    "\n",
    "p_value = diff_of_proportions_test(p2_wins, p2_games, p1_wins, p1_games)\n",
    "p_value"
   ]
  },
  {
   "cell_type": "markdown",
   "metadata": {},
   "source": [
    "That p value means that there is only a 3% chance that the discrepancy in the two proportions occured by random chance! This means, fairly definitively, that after the 4th game of a road trip teams are more likely to win. "
   ]
  },
  {
   "cell_type": "markdown",
   "metadata": {},
   "source": [
    "# Longest Road Trip? Longest Distance Traveled?"
   ]
  },
  {
   "cell_type": "markdown",
   "metadata": {},
   "source": [
    "We know that the longest road trip was 10 games, and the longest distance traveled was 13039 km. \n",
    "\n",
    "But which teams endured these massive road trips? If I was smarter, I would have added a column for \"team\" and \"year\" before I mixed up the data, but I didn't, so now we have to write some more code :)"
   ]
  },
  {
   "cell_type": "code",
   "execution_count": 15,
   "metadata": {},
   "outputs": [
    {
     "name": "stdout",
     "output_type": "stream",
     "text": [
      "Longest Distance Traveled: ('PHILADELPHIA 76ERS', 2011)\n",
      "Longest Road Trip: ('LOS ANGELES CLIPPERS', 2011)\n"
     ]
    }
   ],
   "source": [
    "team_longest_dist, team_longest_road_trip = None, None \n",
    "\n",
    "for year in range(START_YEAR, END_YEAR):\n",
    "    for team, city in team_cities.items(): \n",
    "        \n",
    "        file = \"%s%s.csv\" % (team, year) \n",
    "        try:\n",
    "            team_season = pd.read_csv('TeamTravelDistVsWinning/%s' % file)\n",
    "        except FileNotFoundError: # not every team, city combination is a valid team \n",
    "            continue \n",
    "        \n",
    "        if team_season[team_season[\"n_game_road_trip\"] == 10].shape[0] != 0:\n",
    "            team_longest_road_trip = (team, year) \n",
    "        if team_season[team_season[\"cumulative_distance\"] == 13039].shape[0] != 0: \n",
    "            team_longest_dist = (team, year)\n",
    "            \n",
    "\n",
    "print(\"Longest Distance Traveled: %s\" % str(team_longest_dist))            \n",
    "print(\"Longest Road Trip: %s\" % str(team_longest_road_trip))"
   ]
  },
  {
   "cell_type": "markdown",
   "metadata": {},
   "source": [
    "Technically, the Clippers 10 game road trip was actually 11 games! The 11th game was against the Lakers, but I didn't count games between the Clippers and Lakers in my calculations (as I said before, they share a stadium, which defeats the purpose of analyzing the effects of away games). "
   ]
  },
  {
   "cell_type": "markdown",
   "metadata": {},
   "source": [
    "# Visualizations"
   ]
  },
  {
   "cell_type": "code",
   "execution_count": 16,
   "metadata": {},
   "outputs": [
    {
     "data": {
      "text/plain": [
       "<seaborn.axisgrid.FacetGrid at 0x7f3434694520>"
      ]
     },
     "execution_count": 16,
     "metadata": {},
     "output_type": "execute_result"
    },
    {
     "data": {
      "image/png": "[encoded data removed]",
      "text/plain": [
       "<Figure size 360x360 with 1 Axes>"
      ]
     },
     "metadata": {
      "needs_background": "light"
     },
     "output_type": "display_data"
    }
   ],
   "source": [
    "# Visualization of distance traveled vs length of trip \n",
    "\n",
    "import numpy as np\n",
    "import seaborn as sns\n",
    "import matplotlib.pyplot as plt\n",
    "\n",
    "sns.lmplot(x = \"n_game_road_trip\", y = \"cumulative_distance\", data = complete_data)\n"
   ]
  },
  {
   "cell_type": "code",
   "execution_count": 20,
   "metadata": {},
   "outputs": [
    {
     "data": {
      "text/plain": [
       "<seaborn.axisgrid.FacetGrid at 0x7f3432b09580>"
      ]
     },
     "execution_count": 20,
     "metadata": {},
     "output_type": "execute_result"
    },
    {
     "data": {
      "image/png": "[encoded data removed]",
      "text/plain": [
       "<Figure size 360x360 with 1 Axes>"
      ]
     },
     "metadata": {
      "needs_background": "light"
     },
     "output_type": "display_data"
    }
   ],
   "source": [
    "sns.lmplot(x = \"cumulative_distance\", y = \"win?\", data = complete_data)"
   ]
  },
  {
   "cell_type": "code",
   "execution_count": null,
   "metadata": {},
   "outputs": [],
   "source": []
  }
 ],
 "metadata": {
  "kernelspec": {
   "display_name": "Python 3",
   "language": "python",
   "name": "python3"
  },
  "language_info": {
   "codemirror_mode": {
    "name": "ipython",
    "version": 3
   },
   "file_extension": ".py",
   "mimetype": "text/x-python",
   "name": "python",
   "nbconvert_exporter": "python",
   "pygments_lexer": "ipython3",
   "version": "3.9.1"
  }
 },
 "nbformat": 4,
 "nbformat_minor": 4
}
