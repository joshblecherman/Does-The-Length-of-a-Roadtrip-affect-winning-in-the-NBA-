{
 "cells": [
  {
   "cell_type": "code",
   "execution_count": 2,
   "metadata": {},
   "outputs": [],
   "source": [
    "# the seasons we will be working with\n",
    "# START_YEAR is the year the season ends on. EX: START_YEAR == 2010 refers to 2009-10 season\n",
    "# END_YEAR is not included\n",
    "\n",
    "START_YEAR, END_YEAR = 2010, 2020"
   ]
  },
  {
   "cell_type": "code",
   "execution_count": null,
   "metadata": {},
   "outputs": [],
   "source": [
    "# Map each team to its home city \n",
    "\n",
    "team_cities = {\n",
    "    \"PHILADELPHIA 76ERS\": \"Philadelphia\" , \n",
    "    \"LOS ANGELES LAKERS\": \"Los Angeles\" , \n",
    "    \"NEW ORLEANS PELICANS\": \"New Orleans\" , \n",
    "    \"PORTLAND TRAIL BLAZERS\": \"Portland\" , \n",
    "    \"PHOENIX SUNS\": \"Phoenix\" , \n",
    "    \"MEMPHIS GRIZZLIES\": \"Memphis\",\n",
    "    \"SAN ANTONIO SPURS\" : \"San Antonio\", \n",
    "    \"WASHINGTON WIZARDS\" : \"Washington DC\", \n",
    "    \"CHARLOTTE HORNETS\" : \"Charlotte\", \n",
    "    \"ORLANDO MAGIC\" : \"Orlando\", \n",
    "    \"BOSTON CELTICS\" : \"Boston\", \n",
    "    \"INDIANA PACERS\" : \"Indiana\", \n",
    "    \"UTAH JAZZ\" : \"Salt Lake City\", \n",
    "    \"LOS ANGELES CLIPPERS\": \"Los Angeles\", \n",
    "    \"CHICAGO BULLS\" : \"Chicago\", \n",
    "    \"NEW YORK KNICKS\": \"New York City\", \n",
    "    \"BROOKLYN NETS\": \"Brooklyn\", \n",
    "    \"HOUSTON ROCKETS\": \"Houston\", \n",
    "    \"DALLAS MAVERICKS\" : \"Dallas\", \n",
    "    \"GOLDEN STATE WARRIORS\": \"San Francisco\", \n",
    "    \"MINNESOTA TIMBERWOLVES\" : \"Minneapolis\", \n",
    "    \"ATLANTA HAWKS\" : \"Atlanta\", \n",
    "    \"OKLAHOMA CITY THUNDER\" : \"Oklahoma City\", \n",
    "    \"MIAMI HEAT\" : \"Miami\", \n",
    "    \"DENVER NUGGETS\" : \"Denver\", \n",
    "    \"DETROIT PISTONS\" : \"Detroit\", \n",
    "    \"SACRAMENTO KINGS\" : \"Sacramento\",  \n",
    "    \"TORONTO RAPTORS\" : \"Toronto\", \n",
    "    \"CLEVELAND CAVALIERS\" : \"Cleveland\", \n",
    "    \"MILWAUKEE BUCKS\" : \"Milwaukee\",\n",
    "    \"NEW JERSEY NETS\" : \"East Rutherford\", \n",
    "    \"CHARLOTTE BOBCATS\" : \"Charlotte\", \n",
    "    \"NEW ORLEANS HORNETS\" : \"New Orleans\" \n",
    "}"
   ]
  }
 ],
 "metadata": {
  "kernelspec": {
   "display_name": "Python 3",
   "language": "python",
   "name": "python3"
  },
  "language_info": {
   "codemirror_mode": {
    "name": "ipython",
    "version": 3
   },
   "file_extension": ".py",
   "mimetype": "text/x-python",
   "name": "python",
   "nbconvert_exporter": "python",
   "pygments_lexer": "ipython3",
   "version": "3.9.1"
  }
 },
 "nbformat": 4,
 "nbformat_minor": 4
}
