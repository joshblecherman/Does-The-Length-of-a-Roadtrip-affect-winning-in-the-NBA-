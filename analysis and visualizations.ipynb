{
 "cells": [
  {
   "cell_type": "code",
   "execution_count": 2,
   "metadata": {},
   "outputs": [],
   "source": [
    "import pandas as pd\n",
    "%run 'variables.ipynb'"
   ]
  },
  {
   "cell_type": "markdown",
   "metadata": {},
   "source": [
    "# Analysis"
   ]
  },
  {
   "cell_type": "code",
   "execution_count": 3,
   "metadata": {},
   "outputs": [],
   "source": [
    "allgames = [pd.read_csv('./Games/allgames%s.csv' % (year)) for year in range(START_YEAR, END_YEAR)]"
   ]
  },
  {
   "cell_type": "code",
   "execution_count": 28,
   "metadata": {},
   "outputs": [
    {
     "name": "stdout",
     "output_type": "stream",
     "text": [
      "Home Team Win% = 58.960112778837384%\n"
     ]
    }
   ],
   "source": [
    "# what is the home team win % over these 10 regular seasons? \n",
    "num_home_wins = sum([game['home_team_win?'].sum() for game in allgames]) \n",
    "num_games = sum([game.shape[0] for game in allgames])\n",
    "\n",
    "home_win_percentage = num_home_wins / num_games \n",
    "print('Home Team Win% =', str(home_win_percentage * 100) + '%')"
   ]
  },
  {
   "cell_type": "code",
   "execution_count": 5,
   "metadata": {},
   "outputs": [
    {
     "name": "stdout",
     "output_type": "stream",
     "text": [
      "sample size for different values of n, where n is the length of a road trip\n",
      "n = 1: 5965\n",
      "n = 2: 3039\n",
      "n = 3: 1581\n",
      "n = 4: 814\n",
      "n = 5: 372\n",
      "n = 6: 157\n",
      "n = 7: 58\n",
      "n = 8: 25\n",
      "n = 9: 8\n",
      "n = 10: 1\n"
     ]
    }
   ],
   "source": [
    "# Explore sample size for each road trip length for different values of n \n",
    "\n",
    "complete_data = pd.read_csv('CompleteData/completedata.csv')\n",
    "\n",
    "print('sample size for different values of n, where n is the length of a road trip')\n",
    "for i in range(1, 11):\n",
    "    print('n = %s:' % str(i), complete_data[complete_data['n_game_road_trip'] == i].shape[0])"
   ]
  },
  {
   "cell_type": "code",
   "execution_count": 6,
   "metadata": {},
   "outputs": [
    {
     "data": {
      "text/html": [
       "<div>\n",
       "<style scoped>\n",
       "    .dataframe tbody tr th:only-of-type {\n",
       "        vertical-align: middle;\n",
       "    }\n",
       "\n",
       "    .dataframe tbody tr th {\n",
       "        vertical-align: top;\n",
       "    }\n",
       "\n",
       "    .dataframe thead th {\n",
       "        text-align: right;\n",
       "    }\n",
       "</style>\n",
       "<table border=\"1\" class=\"dataframe\">\n",
       "  <thead>\n",
       "    <tr style=\"text-align: right;\">\n",
       "      <th></th>\n",
       "      <th>sample size</th>\n",
       "      <th>nth game of road trip</th>\n",
       "      <th>mean travel distance</th>\n",
       "      <th>games won</th>\n",
       "      <th>expected games won</th>\n",
       "      <th>win %</th>\n",
       "    </tr>\n",
       "  </thead>\n",
       "  <tbody>\n",
       "    <tr>\n",
       "      <th>0</th>\n",
       "      <td>5965</td>\n",
       "      <td>1</td>\n",
       "      <td>1298.250293</td>\n",
       "      <td>2461</td>\n",
       "      <td>2448</td>\n",
       "      <td>0.412573</td>\n",
       "    </tr>\n",
       "    <tr>\n",
       "      <th>1</th>\n",
       "      <td>3039</td>\n",
       "      <td>2</td>\n",
       "      <td>2666.405067</td>\n",
       "      <td>1231</td>\n",
       "      <td>1247</td>\n",
       "      <td>0.405067</td>\n",
       "    </tr>\n",
       "    <tr>\n",
       "      <th>2</th>\n",
       "      <td>1581</td>\n",
       "      <td>3</td>\n",
       "      <td>3947.884250</td>\n",
       "      <td>637</td>\n",
       "      <td>648</td>\n",
       "      <td>0.402910</td>\n",
       "    </tr>\n",
       "    <tr>\n",
       "      <th>3</th>\n",
       "      <td>814</td>\n",
       "      <td>4</td>\n",
       "      <td>5218.847666</td>\n",
       "      <td>327</td>\n",
       "      <td>334</td>\n",
       "      <td>0.401720</td>\n",
       "    </tr>\n",
       "    <tr>\n",
       "      <th>4</th>\n",
       "      <td>372</td>\n",
       "      <td>5</td>\n",
       "      <td>6243.266129</td>\n",
       "      <td>166</td>\n",
       "      <td>152</td>\n",
       "      <td>0.446237</td>\n",
       "    </tr>\n",
       "    <tr>\n",
       "      <th>5</th>\n",
       "      <td>157</td>\n",
       "      <td>6</td>\n",
       "      <td>7337.318471</td>\n",
       "      <td>70</td>\n",
       "      <td>64</td>\n",
       "      <td>0.445860</td>\n",
       "    </tr>\n",
       "    <tr>\n",
       "      <th>6</th>\n",
       "      <td>58</td>\n",
       "      <td>7</td>\n",
       "      <td>8445.948276</td>\n",
       "      <td>26</td>\n",
       "      <td>23</td>\n",
       "      <td>0.448276</td>\n",
       "    </tr>\n",
       "    <tr>\n",
       "      <th>7</th>\n",
       "      <td>25</td>\n",
       "      <td>8</td>\n",
       "      <td>9589.600000</td>\n",
       "      <td>11</td>\n",
       "      <td>10</td>\n",
       "      <td>0.440000</td>\n",
       "    </tr>\n",
       "    <tr>\n",
       "      <th>8</th>\n",
       "      <td>8</td>\n",
       "      <td>9</td>\n",
       "      <td>10707.125000</td>\n",
       "      <td>3</td>\n",
       "      <td>3</td>\n",
       "      <td>0.375000</td>\n",
       "    </tr>\n",
       "    <tr>\n",
       "      <th>9</th>\n",
       "      <td>1</td>\n",
       "      <td>10</td>\n",
       "      <td>10115.000000</td>\n",
       "      <td>0</td>\n",
       "      <td>0</td>\n",
       "      <td>0.000000</td>\n",
       "    </tr>\n",
       "  </tbody>\n",
       "</table>\n",
       "</div>"
      ],
      "text/plain": [
       "   sample size  nth game of road trip  mean travel distance  games won  \\\n",
       "0         5965                      1           1298.250293       2461   \n",
       "1         3039                      2           2666.405067       1231   \n",
       "2         1581                      3           3947.884250        637   \n",
       "3          814                      4           5218.847666        327   \n",
       "4          372                      5           6243.266129        166   \n",
       "5          157                      6           7337.318471         70   \n",
       "6           58                      7           8445.948276         26   \n",
       "7           25                      8           9589.600000         11   \n",
       "8            8                      9          10707.125000          3   \n",
       "9            1                     10          10115.000000          0   \n",
       "\n",
       "   expected games won     win %  \n",
       "0                2448  0.412573  \n",
       "1                1247  0.405067  \n",
       "2                 648  0.402910  \n",
       "3                 334  0.401720  \n",
       "4                 152  0.446237  \n",
       "5                  64  0.445860  \n",
       "6                  23  0.448276  \n",
       "7                  10  0.440000  \n",
       "8                   3  0.375000  \n",
       "9                   0  0.000000  "
      ]
     },
     "metadata": {},
     "output_type": "display_data"
    }
   ],
   "source": [
    "# create a dictionary to analyze the data\n",
    "\n",
    "AWAY_WIN_PERCENTAGE = 1 - home_win_percentage \n",
    "\n",
    "data_dict = {\n",
    "    'sample size': [],\n",
    "    'nth game of road trip': [],\n",
    "    'mean travel distance' : [],\n",
    "    'games won' : [], \n",
    "    'expected games won' : [], # if winning is independent of the length of road trip, how many games should be won? \n",
    "    'win %' : []\n",
    "}\n",
    "for i in range(1, 11): \n",
    "    data = complete_data[complete_data['n_game_road_trip'] == i]\n",
    "    games_won = int(data['win?'].sum()) \n",
    "    size = data.shape[0] \n",
    "    winpercentage = games_won / size\n",
    "    mean_traveldist = data['cumulative_distance'].mean()\n",
    "    data_dict['sample size'].append(size)\n",
    "    data_dict['win %'].append(winpercentage)\n",
    "    data_dict['nth game of road trip'].append(i) \n",
    "    data_dict['mean travel distance'].append(mean_traveldist)\n",
    "    data_dict['games won'].append(games_won) \n",
    "    data_dict['expected games won'].append(int(size * AWAY_WIN_PERCENTAGE))\n",
    "\n",
    "wins_vs_roadtrip = pd.DataFrame.from_dict(data_dict) \n",
    "    \n",
    "display(wins_vs_roadtrip) "
   ]
  },
  {
   "cell_type": "code",
   "execution_count": 7,
   "metadata": {},
   "outputs": [
    {
     "name": "stdout",
     "output_type": "stream",
     "text": [
      "[2461, 1231, 637, 327, 166, 70, 40] [2448, 1247, 648, 334, 152, 64, 36]\n",
      "Power_divergenceResult(statistic=2.904181760741431, pvalue=0.8207734226301346)\n"
     ]
    }
   ],
   "source": [
    "# is this data significant?\n",
    "\n",
    "from scipy.stats import chisquare\n",
    "\n",
    "observed = data_dict['games won'][0:6] \n",
    "observed.append(sum(data_dict['games won'][6:])) # combine the smaller sample sizes\n",
    "expected = data_dict['expected games won'][0:6]\n",
    "expected.append(sum(data_dict['expected games won'][6:])) # combine the smaller sample sizes\n",
    "\n",
    "print(observed, expected)\n",
    "results = chisquare(observed, expected)\n",
    "\n",
    "print(results) \n",
    "\n",
    "# According to this test, probably not \n",
    "# However, this was probably not the best test to use "
   ]
  },
  {
   "cell_type": "markdown",
   "metadata": {},
   "source": [
    "From the eye test, there seems to be a potentially significant jump in win % when a team is on their 5th or greater game of a road trip. Let's see if that is true using a difference of proportions test, with the two proportions being the wins during the nth game of the road trip for 1 <= n <= 4, and the wins for 5 <= n <= 10. \n",
    "\n",
    "Our null hypothesis will be that there is no difference in winning percentage for 1 <= n <= 4 and for 5 <= n <= 10. Our alternative hypothesis is that there is a difference. Through the following test, we will see if we have enough evidence to reject the null hypothesis."
   ]
  },
  {
   "cell_type": "code",
   "execution_count": 23,
   "metadata": {},
   "outputs": [],
   "source": [
    "import numpy as np \n",
    "\n",
    "def diff_of_proportions_test(y1, n1, y2, n2): \n",
    "    p1, p2 = y1 / n1, y2 / n2 \n",
    "    p0 = (y1 + y2) / (n1 + n2)\n",
    "    z_obs = (p1 - p2) / np.sqrt((p0 * (1 - p0) * (1/n1 + 1/n2))) \n",
    "    return z_obs\n",
    "    "
   ]
  },
  {
   "cell_type": "code",
   "execution_count": 26,
   "metadata": {},
   "outputs": [
    {
     "name": "stdout",
     "output_type": "stream",
     "text": [
      "z_value = 1.7754581981092479\n"
     ]
    }
   ],
   "source": [
    "p1_wins = wins_vs_roadtrip[wins_vs_roadtrip['nth game of road trip'] <= 4]['games won'].sum()\n",
    "p1_games = wins_vs_roadtrip[wins_vs_roadtrip['nth game of road trip'] <= 4]['sample size'].sum()\n",
    "\n",
    "p2_wins = wins_vs_roadtrip[wins_vs_roadtrip['nth game of road trip'] > 4]['games won'].sum()\n",
    "p2_games = wins_vs_roadtrip[wins_vs_roadtrip['nth game of road trip'] > 4]['sample size'].sum()\n",
    "\n",
    "z_value = diff_of_proportions_test(p2_wins, p2_games, p1_wins, p1_games)\n",
    "print('z_value =', z_value)"
   ]
  },
  {
   "cell_type": "markdown",
   "metadata": {},
   "source": [
    "This z-value means that there is greater than a 90% chance that these results are significant and do not represent random chance!  "
   ]
  },
  {
   "cell_type": "markdown",
   "metadata": {},
   "source": [
    "# Longest Road Trip? Longest Distance Traveled?"
   ]
  },
  {
   "cell_type": "markdown",
   "metadata": {},
   "source": [
    "We know that the longest road trip was 10 games, and the longest distance traveled was 13039 km. \n",
    "\n",
    "But which teams endured these massive road trips? If I was smarter, I would have added a column for \"team\" and \"year\" before I mixed up the data, but I didn't, so now we have to write some more code :)"
   ]
  },
  {
   "cell_type": "code",
   "execution_count": 27,
   "metadata": {},
   "outputs": [
    {
     "name": "stdout",
     "output_type": "stream",
     "text": [
      "Longest Distance Traveled: ('PHILADELPHIA 76ERS', 2011)\n",
      "Longest Road Trip: ('LOS ANGELES CLIPPERS', 2011)\n"
     ]
    }
   ],
   "source": [
    "team_longest_dist, team_longest_road_trip = None, None \n",
    "\n",
    "for year in range(START_YEAR, END_YEAR):\n",
    "    for team, city in team_cities.items(): \n",
    "        \n",
    "        file = '%s%s.csv' % (team, year) \n",
    "        try:\n",
    "            team_season = pd.read_csv('TeamTravelDistVsWinning/%s' % file)\n",
    "        except FileNotFoundError: # not every team, city combination is a valid team \n",
    "            continue \n",
    "        \n",
    "        if team_season[team_season['n_game_road_trip'] == 10].shape[0] != 0:\n",
    "            team_longest_road_trip = (team, year) \n",
    "        if team_season[team_season['cumulative_distance'] == 13039].shape[0] != 0: \n",
    "            team_longest_dist = (team, year)\n",
    "            \n",
    "\n",
    "print('Longest Distance Traveled: %s' % str(team_longest_dist))            \n",
    "print('Longest Road Trip: %s' % str(team_longest_road_trip))"
   ]
  },
  {
   "cell_type": "markdown",
   "metadata": {},
   "source": [
    "Technically, the Clippers 10 game road trip was actually 11 games! The 11th game was against the Lakers, but I didn't count games between the Clippers and Lakers in my calculations (as I said before, they share a stadium, which defeats the purpose of analyzing the effects of away games). "
   ]
  },
  {
   "cell_type": "markdown",
   "metadata": {},
   "source": [
    "# Visualizations"
   ]
  },
  {
   "cell_type": "code",
   "execution_count": 30,
   "metadata": {},
   "outputs": [
    {
     "data": {
      "text/plain": [
       "<seaborn.axisgrid.FacetGrid at 0x7fc55306f160>"
      ]
     },
     "execution_count": 30,
     "metadata": {},
     "output_type": "execute_result"
    },
    {
     "data": {
      "image/png": "[encoded data removed]",
      "text/plain": [
       "<Figure size 360x360 with 1 Axes>"
      ]
     },
     "metadata": {
      "needs_background": "light"
     },
     "output_type": "display_data"
    }
   ],
   "source": [
    "# Visualization of distance traveled vs length of trip \n",
    "\n",
    "import numpy as np\n",
    "import seaborn as sns\n",
    "import matplotlib.pyplot as plt\n",
    "\n",
    "sns.lmplot(x = 'n_game_road_trip', y = 'cumulative_distance', data = complete_data)\n"
   ]
  },
  {
   "cell_type": "code",
   "execution_count": 31,
   "metadata": {},
   "outputs": [
    {
     "data": {
      "text/plain": [
       "<seaborn.axisgrid.FacetGrid at 0x7fc551f884c0>"
      ]
     },
     "execution_count": 31,
     "metadata": {},
     "output_type": "execute_result"
    },
    {
     "data": {
      "image/png": "[encoded data removed]",
      "text/plain": [
       "<Figure size 360x360 with 1 Axes>"
      ]
     },
     "metadata": {
      "needs_background": "light"
     },
     "output_type": "display_data"
    }
   ],
   "source": [
    "sns.lmplot(x = 'cumulative_distance', y = 'win?', data = complete_data)"
   ]
  }
 ],
 "metadata": {
  "kernelspec": {
   "display_name": "Python 3",
   "language": "python",
   "name": "python3"
  },
  "language_info": {
   "codemirror_mode": {
    "name": "ipython",
    "version": 3
   },
   "file_extension": ".py",
   "mimetype": "text/x-python",
   "name": "python",
   "nbconvert_exporter": "python",
   "pygments_lexer": "ipython3",
   "version": "3.9.1"
  }
 },
 "nbformat": 4,
 "nbformat_minor": 4
}
